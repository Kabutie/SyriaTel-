{
 "cells": [
  {
   "cell_type": "code",
   "execution_count": null,
   "id": "b32277ae-fe10-408a-b074-1ede509fc636",
   "metadata": {},
   "outputs": [],
   "source": []
  }
 ],
 "metadata": {
  "kernelspec": {
   "display_name": "",
   "name": ""
  },
  "language_info": {
   "name": ""
  }
 },
 "nbformat": 4,
 "nbformat_minor": 5
}
