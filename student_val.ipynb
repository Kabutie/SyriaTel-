{
 "cells": [
  {
   "cell_type": "markdown",
   "id": "7adf56aa-bf77-4a2b-857c-9ec1f83be87a",
   "metadata": {},
   "source": [
    "# Project Name- SYRIATEL CUSTOMER CHURN"
   ]
  },
  {
   "cell_type": "markdown",
   "id": "54bb7311-f743-4ff5-8acd-222ed80ca4ca",
   "metadata": {},
   "source": [
    "# 1. Business Understanding\n",
    "\n",
    "### 1.1 Business Overview\n",
    "\n",
    "SyriaTel is a communications company that offers mobile and communications services to it's customers. Customer churn refers to a situation where customers stop using company's products or services over a given period. In the telecommunications industry, this often means customers cancel their mobile, internet, or bundled service subscriptions and switch to a competitor.\n",
    "The business goal is to reduce customer churn, which directly impacts revenue and long-term profitability. By analyzing customer behavior and service usage data, SyriaTel aims to identify customers who are likely to leave and implement proactive strategies to retain them.\n",
    "\n",
    "\n",
    "### 1.2 Problem Statement\n",
    "\n",
    "SyriaTel is experiencing a significant number of customers discontinuing their services. Losing customers not only affects immediate revenue but also increases customer acquisition costs. The problem is to identify patterns in customer data that signal a high risk of churn and develop a predictive model to flag such customers before they leave.\n",
    "\n",
    "\n",
    "### 1.3 Business Objectives\n",
    "\n",
    "#### Main Objective:\n",
    "To build a predictive model that accurately identifies customers at risk of churning, allowing the business to take timely retention actions.\n",
    "\n",
    "#### Specific Objectives:\n",
    "\n",
    "* To Identify and prioritize the top churn drivers.\n",
    "* To determine how much revenue is lost due to customer churn.\n",
    "* To build a baseline model to predict churn with interpretable results.\n",
    "* To compare and evaluate the performance of different models to determine the most effective.\n",
    "* To optimize pricing for retention.\n",
    "\n",
    "### 1.4 Research Questions\n",
    "\n",
    "* What are the top churn factors driving customer churn?\n",
    "* How much revenue is lost due to customer churn over a given period?\n",
    "* Can a baseline machine learning model accurately predict whether a customer will churn?\n",
    "* Which machine learning model performs best in predicting churn based on classification metrics?\n",
    "* How does pricing impact customer retention, and what pricing strategies can be implemented to reduce churn without significantly impacting revenue?\n",
    "\n",
    "### 1.5 Success Criteria\n",
    "\n",
    "Business Success: Reduction in churn rate, increased retention, and improved customer satisfaction.\n",
    "\n",
    "Data Mining Success: Accurate predictive model."
   ]
  },
  {
   "cell_type": "markdown",
   "id": "683a14a6-596f-4a22-ac47-bde8bd14e9ef",
   "metadata": {},
   "source": [
    "# 2. Data Understanding\n",
    "### 2.1 Dataset Overview\n",
    "The dataset contains historical information about customers which includes their usage patterns and trends and interactions with customer service. The target variable is churn, which indicates whether a customer has left the service (1 = Left or 0 = Stayed). \n",
    "#### 2.2 Data Quality Checks\n",
    " - *Missing Values:* Check for null or missing entries in any column. In SyriaTel there are no missing values.\n",
    " - *Data Types:* Ensure numeric columns (e.g., minutes, charges, calls) are of numeric types for correlation and modelling. Convert the churn column to numeric instead of it being float. \n",
    " - *Outliers:* Identify unusually high or low values (e.g, extremely high day minutes) that may affect the model and churn is the Target variable.\n",
    "#### 2.3 Exploration Insights\n",
    "* Features like customer service calls, total day charge and total day minutes show a higher correlation with churn, these shows that they are key indicators of potential churn.\n",
    "* Other usage and billing features have weak correlation but may still contribute when combined in a predictive model.\n",
    "* Categorical features such as area code are less likely to impact churn individually but may have subtle effects in combination with other variables.\n"
   ]
  },
  {
   "cell_type": "markdown",
   "id": "f830f1a7-d862-429b-befe-fd80dacdb0cb",
   "metadata": {},
   "source": [
    "# 3. Data Preparation\n",
    "\n",
    "In the churn prediction dataset, the main tasks include cleaning, transforming, and structuring the data."
   ]
  },
  {
   "cell_type": "code",
   "execution_count": 1,
   "id": "1eaf7cdc-08cc-4c05-8ca6-d1c3d0e5de30",
   "metadata": {},
   "outputs": [],
   "source": [
    "# importing the necessary libraries\n",
    "import pandas as pd\n",
    "from sklearn.linear_model import LogisticRegression\n",
    "from sklearn.model_selection import train_test_split\n",
    "from sklearn.preprocessing import StandardScaler\n",
    "from sklearn.linear_model import LogisticRegression\n",
    "from sklearn.ensemble import RandomForestClassifier\n",
    "from sklearn.metrics import accuracy_score, classification_report, confusion_matrix\n",
    "import matplotlib.pyplot as plt"
   ]
  },
  {
   "cell_type": "code",
   "execution_count": 2,
   "id": "e7897a7d-cf7a-4912-a099-cdb1e6f529c8",
   "metadata": {},
   "outputs": [
    {
     "data": {
      "text/html": [
       "<div>\n",
       "<style scoped>\n",
       "    .dataframe tbody tr th:only-of-type {\n",
       "        vertical-align: middle;\n",
       "    }\n",
       "\n",
       "    .dataframe tbody tr th {\n",
       "        vertical-align: top;\n",
       "    }\n",
       "\n",
       "    .dataframe thead th {\n",
       "        text-align: right;\n",
       "    }\n",
       "</style>\n",
       "<table border=\"1\" class=\"dataframe\">\n",
       "  <thead>\n",
       "    <tr style=\"text-align: right;\">\n",
       "      <th></th>\n",
       "      <th>state</th>\n",
       "      <th>account length</th>\n",
       "      <th>area code</th>\n",
       "      <th>phone number</th>\n",
       "      <th>international plan</th>\n",
       "      <th>voice mail plan</th>\n",
       "      <th>number vmail messages</th>\n",
       "      <th>total day minutes</th>\n",
       "      <th>total day calls</th>\n",
       "      <th>total day charge</th>\n",
       "      <th>...</th>\n",
       "      <th>total eve calls</th>\n",
       "      <th>total eve charge</th>\n",
       "      <th>total night minutes</th>\n",
       "      <th>total night calls</th>\n",
       "      <th>total night charge</th>\n",
       "      <th>total intl minutes</th>\n",
       "      <th>total intl calls</th>\n",
       "      <th>total intl charge</th>\n",
       "      <th>customer service calls</th>\n",
       "      <th>churn</th>\n",
       "    </tr>\n",
       "  </thead>\n",
       "  <tbody>\n",
       "    <tr>\n",
       "      <th>0</th>\n",
       "      <td>KS</td>\n",
       "      <td>128</td>\n",
       "      <td>415</td>\n",
       "      <td>382-4657</td>\n",
       "      <td>no</td>\n",
       "      <td>yes</td>\n",
       "      <td>25</td>\n",
       "      <td>265.1</td>\n",
       "      <td>110</td>\n",
       "      <td>45.07</td>\n",
       "      <td>...</td>\n",
       "      <td>99</td>\n",
       "      <td>16.78</td>\n",
       "      <td>244.7</td>\n",
       "      <td>91</td>\n",
       "      <td>11.01</td>\n",
       "      <td>10.0</td>\n",
       "      <td>3</td>\n",
       "      <td>2.70</td>\n",
       "      <td>1</td>\n",
       "      <td>False</td>\n",
       "    </tr>\n",
       "    <tr>\n",
       "      <th>1</th>\n",
       "      <td>OH</td>\n",
       "      <td>107</td>\n",
       "      <td>415</td>\n",
       "      <td>371-7191</td>\n",
       "      <td>no</td>\n",
       "      <td>yes</td>\n",
       "      <td>26</td>\n",
       "      <td>161.6</td>\n",
       "      <td>123</td>\n",
       "      <td>27.47</td>\n",
       "      <td>...</td>\n",
       "      <td>103</td>\n",
       "      <td>16.62</td>\n",
       "      <td>254.4</td>\n",
       "      <td>103</td>\n",
       "      <td>11.45</td>\n",
       "      <td>13.7</td>\n",
       "      <td>3</td>\n",
       "      <td>3.70</td>\n",
       "      <td>1</td>\n",
       "      <td>False</td>\n",
       "    </tr>\n",
       "    <tr>\n",
       "      <th>2</th>\n",
       "      <td>NJ</td>\n",
       "      <td>137</td>\n",
       "      <td>415</td>\n",
       "      <td>358-1921</td>\n",
       "      <td>no</td>\n",
       "      <td>no</td>\n",
       "      <td>0</td>\n",
       "      <td>243.4</td>\n",
       "      <td>114</td>\n",
       "      <td>41.38</td>\n",
       "      <td>...</td>\n",
       "      <td>110</td>\n",
       "      <td>10.30</td>\n",
       "      <td>162.6</td>\n",
       "      <td>104</td>\n",
       "      <td>7.32</td>\n",
       "      <td>12.2</td>\n",
       "      <td>5</td>\n",
       "      <td>3.29</td>\n",
       "      <td>0</td>\n",
       "      <td>False</td>\n",
       "    </tr>\n",
       "    <tr>\n",
       "      <th>3</th>\n",
       "      <td>OH</td>\n",
       "      <td>84</td>\n",
       "      <td>408</td>\n",
       "      <td>375-9999</td>\n",
       "      <td>yes</td>\n",
       "      <td>no</td>\n",
       "      <td>0</td>\n",
       "      <td>299.4</td>\n",
       "      <td>71</td>\n",
       "      <td>50.90</td>\n",
       "      <td>...</td>\n",
       "      <td>88</td>\n",
       "      <td>5.26</td>\n",
       "      <td>196.9</td>\n",
       "      <td>89</td>\n",
       "      <td>8.86</td>\n",
       "      <td>6.6</td>\n",
       "      <td>7</td>\n",
       "      <td>1.78</td>\n",
       "      <td>2</td>\n",
       "      <td>False</td>\n",
       "    </tr>\n",
       "    <tr>\n",
       "      <th>4</th>\n",
       "      <td>OK</td>\n",
       "      <td>75</td>\n",
       "      <td>415</td>\n",
       "      <td>330-6626</td>\n",
       "      <td>yes</td>\n",
       "      <td>no</td>\n",
       "      <td>0</td>\n",
       "      <td>166.7</td>\n",
       "      <td>113</td>\n",
       "      <td>28.34</td>\n",
       "      <td>...</td>\n",
       "      <td>122</td>\n",
       "      <td>12.61</td>\n",
       "      <td>186.9</td>\n",
       "      <td>121</td>\n",
       "      <td>8.41</td>\n",
       "      <td>10.1</td>\n",
       "      <td>3</td>\n",
       "      <td>2.73</td>\n",
       "      <td>3</td>\n",
       "      <td>False</td>\n",
       "    </tr>\n",
       "  </tbody>\n",
       "</table>\n",
       "<p>5 rows × 21 columns</p>\n",
       "</div>"
      ],
      "text/plain": [
       "  state  account length  area code phone number international plan  \\\n",
       "0    KS             128        415     382-4657                 no   \n",
       "1    OH             107        415     371-7191                 no   \n",
       "2    NJ             137        415     358-1921                 no   \n",
       "3    OH              84        408     375-9999                yes   \n",
       "4    OK              75        415     330-6626                yes   \n",
       "\n",
       "  voice mail plan  number vmail messages  total day minutes  total day calls  \\\n",
       "0             yes                     25              265.1              110   \n",
       "1             yes                     26              161.6              123   \n",
       "2              no                      0              243.4              114   \n",
       "3              no                      0              299.4               71   \n",
       "4              no                      0              166.7              113   \n",
       "\n",
       "   total day charge  ...  total eve calls  total eve charge  \\\n",
       "0             45.07  ...               99             16.78   \n",
       "1             27.47  ...              103             16.62   \n",
       "2             41.38  ...              110             10.30   \n",
       "3             50.90  ...               88              5.26   \n",
       "4             28.34  ...              122             12.61   \n",
       "\n",
       "   total night minutes  total night calls  total night charge  \\\n",
       "0                244.7                 91               11.01   \n",
       "1                254.4                103               11.45   \n",
       "2                162.6                104                7.32   \n",
       "3                196.9                 89                8.86   \n",
       "4                186.9                121                8.41   \n",
       "\n",
       "   total intl minutes  total intl calls  total intl charge  \\\n",
       "0                10.0                 3               2.70   \n",
       "1                13.7                 3               3.70   \n",
       "2                12.2                 5               3.29   \n",
       "3                 6.6                 7               1.78   \n",
       "4                10.1                 3               2.73   \n",
       "\n",
       "   customer service calls  churn  \n",
       "0                       1  False  \n",
       "1                       1  False  \n",
       "2                       0  False  \n",
       "3                       2  False  \n",
       "4                       3  False  \n",
       "\n",
       "[5 rows x 21 columns]"
      ]
     },
     "execution_count": 2,
     "metadata": {},
     "output_type": "execute_result"
    }
   ],
   "source": [
    "# loading our dataset\n",
    "data = pd.read_csv(\"bigml_59c28831336c6604c800002a.csv\")\n",
    "# previewing the dataset\n",
    "data.head()"
   ]
  },
  {
   "cell_type": "code",
   "execution_count": 3,
   "id": "70c066ea-8b2c-4284-a00a-ab9fdba6de81",
   "metadata": {},
   "outputs": [
    {
     "data": {
      "text/html": [
       "<div>\n",
       "<style scoped>\n",
       "    .dataframe tbody tr th:only-of-type {\n",
       "        vertical-align: middle;\n",
       "    }\n",
       "\n",
       "    .dataframe tbody tr th {\n",
       "        vertical-align: top;\n",
       "    }\n",
       "\n",
       "    .dataframe thead th {\n",
       "        text-align: right;\n",
       "    }\n",
       "</style>\n",
       "<table border=\"1\" class=\"dataframe\">\n",
       "  <thead>\n",
       "    <tr style=\"text-align: right;\">\n",
       "      <th></th>\n",
       "      <th>account length</th>\n",
       "      <th>area code</th>\n",
       "      <th>number vmail messages</th>\n",
       "      <th>total day minutes</th>\n",
       "      <th>total day calls</th>\n",
       "      <th>total day charge</th>\n",
       "      <th>total eve minutes</th>\n",
       "      <th>total eve calls</th>\n",
       "      <th>total eve charge</th>\n",
       "      <th>total night minutes</th>\n",
       "      <th>total night calls</th>\n",
       "      <th>total night charge</th>\n",
       "      <th>total intl minutes</th>\n",
       "      <th>total intl calls</th>\n",
       "      <th>total intl charge</th>\n",
       "      <th>customer service calls</th>\n",
       "    </tr>\n",
       "  </thead>\n",
       "  <tbody>\n",
       "    <tr>\n",
       "      <th>count</th>\n",
       "      <td>3333.000000</td>\n",
       "      <td>3333.000000</td>\n",
       "      <td>3333.000000</td>\n",
       "      <td>3333.000000</td>\n",
       "      <td>3333.000000</td>\n",
       "      <td>3333.000000</td>\n",
       "      <td>3333.000000</td>\n",
       "      <td>3333.000000</td>\n",
       "      <td>3333.000000</td>\n",
       "      <td>3333.000000</td>\n",
       "      <td>3333.000000</td>\n",
       "      <td>3333.000000</td>\n",
       "      <td>3333.000000</td>\n",
       "      <td>3333.000000</td>\n",
       "      <td>3333.000000</td>\n",
       "      <td>3333.000000</td>\n",
       "    </tr>\n",
       "    <tr>\n",
       "      <th>mean</th>\n",
       "      <td>101.064806</td>\n",
       "      <td>437.182418</td>\n",
       "      <td>8.099010</td>\n",
       "      <td>179.775098</td>\n",
       "      <td>100.435644</td>\n",
       "      <td>30.562307</td>\n",
       "      <td>200.980348</td>\n",
       "      <td>100.114311</td>\n",
       "      <td>17.083540</td>\n",
       "      <td>200.872037</td>\n",
       "      <td>100.107711</td>\n",
       "      <td>9.039325</td>\n",
       "      <td>10.237294</td>\n",
       "      <td>4.479448</td>\n",
       "      <td>2.764581</td>\n",
       "      <td>1.562856</td>\n",
       "    </tr>\n",
       "    <tr>\n",
       "      <th>std</th>\n",
       "      <td>39.822106</td>\n",
       "      <td>42.371290</td>\n",
       "      <td>13.688365</td>\n",
       "      <td>54.467389</td>\n",
       "      <td>20.069084</td>\n",
       "      <td>9.259435</td>\n",
       "      <td>50.713844</td>\n",
       "      <td>19.922625</td>\n",
       "      <td>4.310668</td>\n",
       "      <td>50.573847</td>\n",
       "      <td>19.568609</td>\n",
       "      <td>2.275873</td>\n",
       "      <td>2.791840</td>\n",
       "      <td>2.461214</td>\n",
       "      <td>0.753773</td>\n",
       "      <td>1.315491</td>\n",
       "    </tr>\n",
       "    <tr>\n",
       "      <th>min</th>\n",
       "      <td>1.000000</td>\n",
       "      <td>408.000000</td>\n",
       "      <td>0.000000</td>\n",
       "      <td>0.000000</td>\n",
       "      <td>0.000000</td>\n",
       "      <td>0.000000</td>\n",
       "      <td>0.000000</td>\n",
       "      <td>0.000000</td>\n",
       "      <td>0.000000</td>\n",
       "      <td>23.200000</td>\n",
       "      <td>33.000000</td>\n",
       "      <td>1.040000</td>\n",
       "      <td>0.000000</td>\n",
       "      <td>0.000000</td>\n",
       "      <td>0.000000</td>\n",
       "      <td>0.000000</td>\n",
       "    </tr>\n",
       "    <tr>\n",
       "      <th>25%</th>\n",
       "      <td>74.000000</td>\n",
       "      <td>408.000000</td>\n",
       "      <td>0.000000</td>\n",
       "      <td>143.700000</td>\n",
       "      <td>87.000000</td>\n",
       "      <td>24.430000</td>\n",
       "      <td>166.600000</td>\n",
       "      <td>87.000000</td>\n",
       "      <td>14.160000</td>\n",
       "      <td>167.000000</td>\n",
       "      <td>87.000000</td>\n",
       "      <td>7.520000</td>\n",
       "      <td>8.500000</td>\n",
       "      <td>3.000000</td>\n",
       "      <td>2.300000</td>\n",
       "      <td>1.000000</td>\n",
       "    </tr>\n",
       "    <tr>\n",
       "      <th>50%</th>\n",
       "      <td>101.000000</td>\n",
       "      <td>415.000000</td>\n",
       "      <td>0.000000</td>\n",
       "      <td>179.400000</td>\n",
       "      <td>101.000000</td>\n",
       "      <td>30.500000</td>\n",
       "      <td>201.400000</td>\n",
       "      <td>100.000000</td>\n",
       "      <td>17.120000</td>\n",
       "      <td>201.200000</td>\n",
       "      <td>100.000000</td>\n",
       "      <td>9.050000</td>\n",
       "      <td>10.300000</td>\n",
       "      <td>4.000000</td>\n",
       "      <td>2.780000</td>\n",
       "      <td>1.000000</td>\n",
       "    </tr>\n",
       "    <tr>\n",
       "      <th>75%</th>\n",
       "      <td>127.000000</td>\n",
       "      <td>510.000000</td>\n",
       "      <td>20.000000</td>\n",
       "      <td>216.400000</td>\n",
       "      <td>114.000000</td>\n",
       "      <td>36.790000</td>\n",
       "      <td>235.300000</td>\n",
       "      <td>114.000000</td>\n",
       "      <td>20.000000</td>\n",
       "      <td>235.300000</td>\n",
       "      <td>113.000000</td>\n",
       "      <td>10.590000</td>\n",
       "      <td>12.100000</td>\n",
       "      <td>6.000000</td>\n",
       "      <td>3.270000</td>\n",
       "      <td>2.000000</td>\n",
       "    </tr>\n",
       "    <tr>\n",
       "      <th>max</th>\n",
       "      <td>243.000000</td>\n",
       "      <td>510.000000</td>\n",
       "      <td>51.000000</td>\n",
       "      <td>350.800000</td>\n",
       "      <td>165.000000</td>\n",
       "      <td>59.640000</td>\n",
       "      <td>363.700000</td>\n",
       "      <td>170.000000</td>\n",
       "      <td>30.910000</td>\n",
       "      <td>395.000000</td>\n",
       "      <td>175.000000</td>\n",
       "      <td>17.770000</td>\n",
       "      <td>20.000000</td>\n",
       "      <td>20.000000</td>\n",
       "      <td>5.400000</td>\n",
       "      <td>9.000000</td>\n",
       "    </tr>\n",
       "  </tbody>\n",
       "</table>\n",
       "</div>"
      ],
      "text/plain": [
       "       account length    area code  number vmail messages  total day minutes  \\\n",
       "count     3333.000000  3333.000000            3333.000000        3333.000000   \n",
       "mean       101.064806   437.182418               8.099010         179.775098   \n",
       "std         39.822106    42.371290              13.688365          54.467389   \n",
       "min          1.000000   408.000000               0.000000           0.000000   \n",
       "25%         74.000000   408.000000               0.000000         143.700000   \n",
       "50%        101.000000   415.000000               0.000000         179.400000   \n",
       "75%        127.000000   510.000000              20.000000         216.400000   \n",
       "max        243.000000   510.000000              51.000000         350.800000   \n",
       "\n",
       "       total day calls  total day charge  total eve minutes  total eve calls  \\\n",
       "count      3333.000000       3333.000000        3333.000000      3333.000000   \n",
       "mean        100.435644         30.562307         200.980348       100.114311   \n",
       "std          20.069084          9.259435          50.713844        19.922625   \n",
       "min           0.000000          0.000000           0.000000         0.000000   \n",
       "25%          87.000000         24.430000         166.600000        87.000000   \n",
       "50%         101.000000         30.500000         201.400000       100.000000   \n",
       "75%         114.000000         36.790000         235.300000       114.000000   \n",
       "max         165.000000         59.640000         363.700000       170.000000   \n",
       "\n",
       "       total eve charge  total night minutes  total night calls  \\\n",
       "count       3333.000000          3333.000000        3333.000000   \n",
       "mean          17.083540           200.872037         100.107711   \n",
       "std            4.310668            50.573847          19.568609   \n",
       "min            0.000000            23.200000          33.000000   \n",
       "25%           14.160000           167.000000          87.000000   \n",
       "50%           17.120000           201.200000         100.000000   \n",
       "75%           20.000000           235.300000         113.000000   \n",
       "max           30.910000           395.000000         175.000000   \n",
       "\n",
       "       total night charge  total intl minutes  total intl calls  \\\n",
       "count         3333.000000         3333.000000       3333.000000   \n",
       "mean             9.039325           10.237294          4.479448   \n",
       "std              2.275873            2.791840          2.461214   \n",
       "min              1.040000            0.000000          0.000000   \n",
       "25%              7.520000            8.500000          3.000000   \n",
       "50%              9.050000           10.300000          4.000000   \n",
       "75%             10.590000           12.100000          6.000000   \n",
       "max             17.770000           20.000000         20.000000   \n",
       "\n",
       "       total intl charge  customer service calls  \n",
       "count        3333.000000             3333.000000  \n",
       "mean            2.764581                1.562856  \n",
       "std             0.753773                1.315491  \n",
       "min             0.000000                0.000000  \n",
       "25%             2.300000                1.000000  \n",
       "50%             2.780000                1.000000  \n",
       "75%             3.270000                2.000000  \n",
       "max             5.400000                9.000000  "
      ]
     },
     "execution_count": 3,
     "metadata": {},
     "output_type": "execute_result"
    }
   ],
   "source": [
    "# Generate summary statistics for the columns in the DataFrame.\n",
    "data.describe()"
   ]
  },
  {
   "cell_type": "markdown",
   "id": "4548a3a2-bc52-4035-b8df-c1379e598093",
   "metadata": {},
   "source": [
    "#### Handling Missing Values\n",
    "* Checking each column for null or missing values"
   ]
  },
  {
   "cell_type": "code",
   "execution_count": 4,
   "id": "8708711d-3af6-4b7e-85c1-209686f0bdba",
   "metadata": {},
   "outputs": [
    {
     "data": {
      "text/plain": [
       "state                     0\n",
       "account length            0\n",
       "area code                 0\n",
       "phone number              0\n",
       "international plan        0\n",
       "voice mail plan           0\n",
       "number vmail messages     0\n",
       "total day minutes         0\n",
       "total day calls           0\n",
       "total day charge          0\n",
       "total eve minutes         0\n",
       "total eve calls           0\n",
       "total eve charge          0\n",
       "total night minutes       0\n",
       "total night calls         0\n",
       "total night charge        0\n",
       "total intl minutes        0\n",
       "total intl calls          0\n",
       "total intl charge         0\n",
       "customer service calls    0\n",
       "churn                     0\n",
       "dtype: int64"
      ]
     },
     "execution_count": 4,
     "metadata": {},
     "output_type": "execute_result"
    }
   ],
   "source": [
    "# checking for missing values\n",
    "data.isnull().sum()"
   ]
  },
  {
   "cell_type": "markdown",
   "id": "12c2fe64-9ed7-4f82-8a5f-9ce6e30c063f",
   "metadata": {},
   "source": [
    "#### Handling duplicated values\n",
    "Checking each column for duplicated values and according toour dat there are no duplicate values."
   ]
  },
  {
   "cell_type": "code",
   "execution_count": 5,
   "id": "b0d5ba13-b483-4ef8-8a3f-635ab8490b70",
   "metadata": {},
   "outputs": [
    {
     "data": {
      "text/plain": [
       "0"
      ]
     },
     "execution_count": 5,
     "metadata": {},
     "output_type": "execute_result"
    }
   ],
   "source": [
    "# checking for duplicates\n",
    "data.duplicated().sum()"
   ]
  },
  {
   "cell_type": "markdown",
   "id": "db46402b-0ada-43d6-b2ba-afd884210eb7",
   "metadata": {},
   "source": [
    "#### Partial imbalance\n",
    "* Checking for dominant categories, which is useful for spotting imbalance before modeling."
   ]
  },
  {
   "cell_type": "code",
   "execution_count": 6,
   "id": "9512a82e-bb89-4ff2-843e-92f792e08ef7",
   "metadata": {},
   "outputs": [
    {
     "data": {
      "text/html": [
       "<div>\n",
       "<style scoped>\n",
       "    .dataframe tbody tr th:only-of-type {\n",
       "        vertical-align: middle;\n",
       "    }\n",
       "\n",
       "    .dataframe tbody tr th {\n",
       "        vertical-align: top;\n",
       "    }\n",
       "\n",
       "    .dataframe thead th {\n",
       "        text-align: right;\n",
       "    }\n",
       "</style>\n",
       "<table border=\"1\" class=\"dataframe\">\n",
       "  <thead>\n",
       "    <tr style=\"text-align: right;\">\n",
       "      <th></th>\n",
       "      <th>top</th>\n",
       "      <th>freq</th>\n",
       "    </tr>\n",
       "  </thead>\n",
       "  <tbody>\n",
       "    <tr>\n",
       "      <th>state</th>\n",
       "      <td>WV</td>\n",
       "      <td>106</td>\n",
       "    </tr>\n",
       "    <tr>\n",
       "      <th>phone number</th>\n",
       "      <td>382-4657</td>\n",
       "      <td>1</td>\n",
       "    </tr>\n",
       "    <tr>\n",
       "      <th>international plan</th>\n",
       "      <td>no</td>\n",
       "      <td>3010</td>\n",
       "    </tr>\n",
       "    <tr>\n",
       "      <th>voice mail plan</th>\n",
       "      <td>no</td>\n",
       "      <td>2411</td>\n",
       "    </tr>\n",
       "  </tbody>\n",
       "</table>\n",
       "</div>"
      ],
      "text/plain": [
       "                         top  freq\n",
       "state                     WV   106\n",
       "phone number        382-4657     1\n",
       "international plan        no  3010\n",
       "voice mail plan           no  2411"
      ]
     },
     "execution_count": 6,
     "metadata": {},
     "output_type": "execute_result"
    }
   ],
   "source": [
    "data.describe(include=['object']).T[['top', 'freq']]"
   ]
  },
  {
   "cell_type": "code",
   "execution_count": 7,
   "id": "9c7acd1a-8e5b-4dc2-92ae-1d5c35f5c8f6",
   "metadata": {},
   "outputs": [
    {
     "data": {
      "text/plain": [
       "state                      object\n",
       "account length              int64\n",
       "area code                   int64\n",
       "phone number               object\n",
       "international plan         object\n",
       "voice mail plan            object\n",
       "number vmail messages       int64\n",
       "total day minutes         float64\n",
       "total day calls             int64\n",
       "total day charge          float64\n",
       "total eve minutes         float64\n",
       "total eve calls             int64\n",
       "total eve charge          float64\n",
       "total night minutes       float64\n",
       "total night calls           int64\n",
       "total night charge        float64\n",
       "total intl minutes        float64\n",
       "total intl calls            int64\n",
       "total intl charge         float64\n",
       "customer service calls      int64\n",
       "churn                        bool\n",
       "dtype: object"
      ]
     },
     "execution_count": 7,
     "metadata": {},
     "output_type": "execute_result"
    }
   ],
   "source": [
    "# data type of each column in the DataFrame.\n",
    "data.dtypes"
   ]
  },
  {
   "cell_type": "markdown",
   "id": "4076b42a-751b-4031-8147-82c68dc35c4c",
   "metadata": {},
   "source": [
    "#### Convert Data type\n",
    "* Convert data type(churn) from boolean to integers(int64)."
   ]
  },
  {
   "cell_type": "code",
   "execution_count": 8,
   "id": "aa32aaab-a29b-44dd-a2d1-942ea2dd6bbe",
   "metadata": {},
   "outputs": [],
   "source": [
    "data['churn'] = data['churn'].astype('int64')"
   ]
  },
  {
   "cell_type": "code",
   "execution_count": 9,
   "id": "660e9e71-d21c-4f20-826b-52dd60aed5a2",
   "metadata": {},
   "outputs": [
    {
     "data": {
      "text/plain": [
       "state                      object\n",
       "account length              int64\n",
       "area code                   int64\n",
       "phone number               object\n",
       "international plan         object\n",
       "voice mail plan            object\n",
       "number vmail messages       int64\n",
       "total day minutes         float64\n",
       "total day calls             int64\n",
       "total day charge          float64\n",
       "total eve minutes         float64\n",
       "total eve calls             int64\n",
       "total eve charge          float64\n",
       "total night minutes       float64\n",
       "total night calls           int64\n",
       "total night charge        float64\n",
       "total intl minutes        float64\n",
       "total intl calls            int64\n",
       "total intl charge         float64\n",
       "customer service calls      int64\n",
       "churn                       int64\n",
       "dtype: object"
      ]
     },
     "execution_count": 9,
     "metadata": {},
     "output_type": "execute_result"
    }
   ],
   "source": [
    "# check data type again to ensure it has been changed\n",
    "data.dtypes"
   ]
  },
  {
   "cell_type": "code",
   "execution_count": 10,
   "id": "10eecf54-91ee-4917-80de-5ec32302e2fc",
   "metadata": {},
   "outputs": [
    {
     "data": {
      "text/plain": [
       "(3333, 21)"
      ]
     },
     "execution_count": 10,
     "metadata": {},
     "output_type": "execute_result"
    }
   ],
   "source": [
    "# Shows the structure of the data set\n",
    "data.shape"
   ]
  },
  {
   "cell_type": "markdown",
   "id": "8bec0334-687a-4c8b-aef9-a801570d59ee",
   "metadata": {},
   "source": [
    "#### Related Features\n",
    "* Checks which numeric features are most related to churn, which is useful when doing feature selection or understanding the data."
   ]
  },
  {
   "cell_type": "code",
   "execution_count": 11,
   "id": "250b2ced-39c7-441e-9d89-bf3d17fe6ff0",
   "metadata": {},
   "outputs": [
    {
     "data": {
      "text/plain": [
       "account length            0.016541\n",
       "area code                 0.006174\n",
       "number vmail messages    -0.089728\n",
       "total day minutes         0.205151\n",
       "total day calls           0.018459\n",
       "total day charge          0.205151\n",
       "total eve minutes         0.092796\n",
       "total eve calls           0.009233\n",
       "total eve charge          0.092786\n",
       "total night minutes       0.035493\n",
       "total night calls         0.006141\n",
       "total night charge        0.035496\n",
       "total intl minutes        0.068239\n",
       "total intl calls         -0.052844\n",
       "total intl charge         0.068259\n",
       "customer service calls    0.208750\n",
       "churn                     1.000000\n",
       "Name: churn, dtype: float64"
      ]
     },
     "execution_count": 11,
     "metadata": {},
     "output_type": "execute_result"
    }
   ],
   "source": [
    "data.select_dtypes(include='number').corr()['churn']"
   ]
  },
  {
   "cell_type": "markdown",
   "id": "f60e8006-1222-4175-9a43-9eb6119a45b5",
   "metadata": {},
   "source": [
    "EDA"
   ]
  },
  {
   "cell_type": "markdown",
   "id": "0c569001-6f97-4c10-9839-6f9d4c67d438",
   "metadata": {},
   "source": [
    "# This Shows the average charges for customers who churned vs who stayed. If churners consistently have higher charges, that shows that there is a pricing issue.\n",
    "# The figure shows how churners vs who stayed differ in daytime charges. Also shows churners clustered at higher charges."
   ]
  },
  {
   "cell_type": "code",
   "execution_count": 12,
   "id": "3efb5857-f462-4abe-80a4-c08c4bd80146",
   "metadata": {},
   "outputs": [
    {
     "data": {
      "image/png": "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",
      "text/plain": [
       "<Figure size 640x480 with 1 Axes>"
      ]
     },
     "metadata": {},
     "output_type": "display_data"
    }
   ],
   "source": [
    "# show pricing differences using churn\n",
    "pricing_data = data.groupby('churn')[['total day charge',\n",
    "                     'total eve charge',\n",
    "                     'total night charge',\n",
    "                     'total intl charge']].mean()\n",
    "# plot the figure to show pricing difference against churn\n",
    "\n",
    "data[data['churn'] == 0]['total day charge'].hist(alpha=0.5, label='No Churn')\n",
    "data[data['churn'] == 1]['total day charge'].hist(alpha=0.5, label='Churn')\n",
    "plt.xlabel(\"Daytime Charge\")\n",
    "plt.ylabel(\"Count\")\n",
    "plt.legend()\n",
    "plt.show()"
   ]
  },
  {
   "cell_type": "markdown",
   "id": "d2f82139-29cb-4006-8f68-13838be21ccf",
   "metadata": {},
   "source": [
    "# MODELING\n",
    "\n",
    "## Logistic Regression churn model:\n",
    "## The model gives an intrepretation of coefficients and the direction it takes and the effect."
   ]
  },
  {
   "cell_type": "code",
   "execution_count": 13,
   "id": "e42ac9e3-7f1a-4536-a322-968db491a29c",
   "metadata": {},
   "outputs": [
    {
     "name": "stdout",
     "output_type": "stream",
     "text": [
      "              Feature  Coefficient\n",
      "3   total intl charge     0.292550\n",
      "0    total day charge     0.067423\n",
      "1    total eve charge     0.066021\n",
      "2  total night charge     0.050173\n"
     ]
    },
    {
     "data": {
      "image/png": "iVBORw0KGgoAAAANSUhEUgAAAwcAAAHUCAYAAABvbVTnAAAAOXRFWHRTb2Z0d2FyZQBNYXRwbG90bGliIHZlcnNpb24zLjkuMiwgaHR0cHM6Ly9tYXRwbG90bGliLm9yZy8hTgPZAAAACXBIWXMAAA9hAAAPYQGoP6dpAABYM0lEQVR4nO3deZxN9ePH8fedMXNnH9tYmrEMYkwZhjEMX4ayZflSiZAswzcJlRSyy5LsFZFkfFWiSOonskRTI/tSZiwNE5Vd1rLNfH5/uHO/rlncYaZBr+fjcR+5n/M55/M553PO7b7vWcZijDECAAAA8I/nktcdAAAAAHBnIBwAAAAAkEQ4AAAAAGBDOAAAAAAgiXAAAAAAwIZwAAAAAEAS4QAAAACADeEAAAAAgCTCAQAAAAAbwgFwF4uNjZXFYtHmzZv/1nbr1aunevXqZWuehIQEDR8+XMnJyemmde7cWaVLl86Rvg0fPlwWi8X+cnNzU8mSJdW9e3cdOXIkR9q4G+TkNr0VZ8+e1ejRoxURESE/Pz9ZrVaVLl1aXbt21datW3O17eTkZDVr1kwFCxaUxWLRCy+8IEnatm2boqOj5e/vL4vFoilTpmjt2rWyWCxau3ZtttpIO/Yy2p9z0pgxY7RkyZIcXebq1asVEREhb29vWSyWHF/+9ZKTkx2ORxcXFxUqVEhNmzbV+vXrnVrGrW7rtM+CvHDj59D1r7fffjtX2oyPj9fw4cN1+vTpXFk+/jny5XUHANx9pk+fnu15EhISNGLECNWrVy/dl9YhQ4bo+eefz6HeXbN8+XL5+/vr/Pnz+vrrrzVx4kTFx8dr+/btcnNzy9G27kS5sU2dlZSUpEaNGunYsWPq0aOHRowYIR8fHyUnJ2vhwoWqVq2aTp8+LX9//1xp/8UXX9SGDRv0/vvvq1ixYipevLgkqWvXrrpw4YI+/vhjFShQQKVLl5aXl5fWr1+v0NDQbLXRrFkzrV+/3r7s3DJmzBi1bt1arVq1ypHlGWPUpk0blS9fXkuXLpW3t7cqVKiQI8vOSu/evdW+fXulpKRo165dGjFihOrXr6/169crPDw8y3lvdVt369ZNTZo0uZ1u37a0z6HrBQcH50pb8fHxGjFihDp37qz8+fPnShv4ZyAcAMi27H6RupmyZcvm6PIkqVq1aipcuLAkqUGDBjpx4oTmzJmj7777TvXr18/x9jJjjNHFixfl6en5t7Up5c42dUZKSooeffRRnThxQuvXr9eDDz5onxYdHa1OnTrpq6++ytWA9tNPPykyMjLdF+qffvpJ3bt31yOPPOJQXrNmzWy3ERAQoICAgNvpZp74/fffderUKT366KN6+OGHc2SZf/31lzw8PLL8lb5kyZL27Vy7dm2VK1dODz/8sKZPn65Zs2Zludxb3dZBQUEKCgrK9nw56frPobuVM+OLewuXFQH/AN99950efvhh+fr6ysvLS7Vq1dL//d//ZVgvKipKHh4eCgwM1JAhQ/Tee++lO6Wf0WVF77zzjipXriwfHx/5+voqJCREr776qqRrlwU88cQTkqT69evbT6/HxsZKyvgSmNTUVL311luqUqWKPD09lT9/ftWsWVNLly69pW0QEREhSTp69KhD+apVq/Twww/Lz89PXl5eql27tlavXp1u/s8//1xhYWGyWq0qU6aMpk6dmuFlCxaLRb169dKMGTNUsWJFWa1WzZ07V5K0b98+tW/fXkWKFJHValXFihU1bdq0dOs9atQoVahQwb7eYWFhmjp1qr3O8ePH9Z///EclSpSQ1WpVQECAateurVWrVtnrZLRNL168qIEDByo4OFju7u4KDAzUc889l+4yhNKlS6t58+Zavny5qlatKk9PT4WEhOj999+/6XZesmSJfvzxRw0cONAhGFzvkUcekZeXl/29s/vnkSNH9MwzzygoKEju7u4KDg7WiBEjdPXqVUmyXyL0888/66uvvnLYzywWi65evap33nnHXn79PDdeVrRhwwa1aNFChQoVkoeHh8qWLWu/PEnK/FIXZ/antP1m165dateunfz9/VW0aFF17dpVZ86csdezWCy6cOGC5s6da+9z2nH3559/ql+/fgoODpaHh4cKFiyoiIgIzZ8/P9OxGT58uP3Lcv/+/WWxWBz2EWfGIW29v/76a3Xt2lUBAQHy8vLSpUuXMm03I2lB4ZdffrnpcjPb1suXL9fDDz8sf39/eXl5qWLFiho7dmy67Xy97Ozbzn4e3ipjjKZPn27/jCtQoIBat26t/fv3O9RbuXKlWrZsqaCgIHl4eKhcuXJ65plndOLECYd1ffnllyVdOzORtr+k7dcWi0XDhw9P14fSpUurc+fO9vc3G98FCxYoKipK3t7e8vHxUePGjbVt2zaHZe7fv19PPvmk7rvvPlmtVhUtWlQPP/ywtm/fftvbDH8PzhwA97h169apYcOGCgsL0+zZs2W1WjV9+nS1aNFC8+fPV9u2bSVJO3fuVMOGDVW+fHnNnTtXXl5emjFjhj744IObtvHxxx+rZ8+e6t27tyZMmCAXFxf9/PPPSkhIkHTtsoAxY8bo1Vdf1bRp01S1alVJWf+63blzZ33wwQeKiYnRyJEj5e7urq1bt97y/5QPHDggSSpfvry97IMPPtDTTz+tli1bau7cuXJzc9PMmTPVuHFjrVixwv7L6vLly/XYY4+pbt26WrBgga5evaoJEyakCxpplixZori4OA0dOlTFihVTkSJFlJCQoFq1aqlkyZKaOHGiihUrphUrVqhPnz46ceKEhg0bJkl64403NHz4cA0ePFh169bVlStXtHv3bocv8B07dtTWrVs1evRolS9fXqdPn9bWrVt18uTJTNffGKNWrVpp9erVGjhwoOrUqaOdO3dq2LBhWr9+vdavXy+r1Wqvv2PHDr300ksaMGCAihYtqvfee08xMTEqV66c6tatm2k7X3/9tSQ5fRmMs/vnkSNHFBkZKRcXFw0dOlRly5bV+vXrNWrUKCUnJ2vOnDmqWrWq1q9fr0cffVRly5bVhAkTJF37srR+/XpFRUWpdevWeumll7Ls04oVK9SiRQtVrFhRkyZNUsmSJZWcnGxft8w4uz+lefzxx9W2bVvFxMTYA5Uk+xfV9evX66GHHlL9+vU1ZMgQSZKfn58kqW/fvpo3b55GjRql8PBwXbhwQT/99FOW+0C3bt1UuXJlPfbYY/bLfNLG3NlxSNO1a1c1a9ZM8+bN04ULF7J9Jujnn3+WpHRnBJxd7uzZs9W9e3dFR0drxowZKlKkiPbu3auffvrppm07s2/fzufh9VJSUuzhVbr2Jd3V1VWS9Mwzzyg2NlZ9+vTRuHHjdOrUKY0cOVK1atXSjh07VLRoUUnXLtOLiopSt27d5O/vr+TkZE2aNEn/+te/9OOPP8rNzU3dunXTqVOn9NZbb2nx4sX2S7Bu9SxvRuMwZswYDR48WF26dNHgwYN1+fJljR8/XnXq1NHGjRvtbTVt2lQpKSl64403VLJkSZ04cULx8fHcC3E3MQDuWnPmzDGSzKZNmzKtU7NmTVOkSBFz7tw5e9nVq1fNgw8+aIKCgkxqaqoxxpgnnnjCeHt7m+PHj9vrpaSkmNDQUCPJHDhwwF4eHR1toqOj7e979epl8ufPn2VfP/nkEyPJfPPNN+mmderUyZQqVcr+/ttvvzWSzKBBg7JcZkaGDRtmJJkjR46YK1eumD/++MMsXLjQeHt7m3bt2tnrXbhwwRQsWNC0aNHCYf6UlBRTuXJlExkZaS+rXr26KVGihLl06ZK97Ny5c6ZQoULmxo9RScbf39+cOnXKobxx48YmKCjInDlzxqG8V69exsPDw16/efPmpkqVKlmuo4+Pj3nhhReyrHPjNl2+fLmRZN544w2HegsWLDCSzLvvvmsvK1WqlPHw8DC//PKLveyvv/4yBQsWNM8880yW7TZp0sRIMhcvXsyyXhpn989nnnnG+Pj4OPTJGGMmTJhgJJldu3Y59L9Zs2bp2pJknnvuOYeyb775Jt1+WbZsWVO2bFnz119/ZdrvtGMv7bjIzv6Uto/eOBY9e/Y0Hh4e9nU2xhhvb2/TqVOndO0/+OCDplWrVpn2LzMHDhwwksz48eMdyp0dh7T1fvrpp7PV3rhx48yVK1fMxYsXzZYtW0z16tWNJPN///d/N13ujdv63Llzxs/Pz/zrX/9y2FY3StvO13N2387O52FWbd/4CgwMNMYYs379eiPJTJw40WG+Q4cOGU9PT/PKK69kuNzU1FRz5coV88svvxhJ5vPPP7dPGz9+fKZ9k2SGDRuWrrxUqVIO+1dm43Dw4EGTL18+07t3b4fyc+fOmWLFipk2bdoYY4w5ceKEkWSmTJmS6bbBnY/LioB72IULF7Rhwwa1bt1aPj4+9nJXV1d17NhRv/76q/bs2SPp2i+HDz30kMP1sS4uLmrTps1N24mMjNTp06fVrl07ff755w6nu2/FV199JUl67rnnbnkZxYoVk5ubmwoUKKA2bdqoWrVq9st7pGs37506dUqdOnXS1atX7a/U1FQ1adJEmzZt0oULF3ThwgVt3rxZrVq1kru7u31+Hx8ftWjRIsO2H3roIRUoUMD+/uLFi1q9erUeffRReXl5ObTXtGlTXbx4UT/88IOka9tyx44d6tmzp1asWKGzZ8+mW35kZKRiY2M1atQo/fDDD7py5cpNt8eaNWskyeESAkl64okn5O3tne7SlypVqqhkyZL29x4eHipfvrz9MpCckJ3988svv1T9+vV13333OWy/tPsH1q1blyN92rt3r5KSkhQTEyMPDw+n53N2f7rev//9b4f3YWFhunjxoo4dO3bT9iIjI/XVV19pwIABWrt2rf766y+n+3qj7IxDmscffzxbbfTv319ubm7y8PBQtWrVdPDgQc2cOVNNmzbN9nLj4+N19uxZ9ezZ85aug3dm376dz8PrrVq1Sps2bbK/li1bJuna/myxWPTUU0857C/FihVT5cqVHS5zS7uxv0SJEsqXL5/c3NxUqlQpSVJiYmK2198ZN47DihUrdPXqVT399NMO/fXw8FB0dLS9vwULFlTZsmU1fvx4TZo0Sdu2bVNqamqu9BG5h8uKgHvYH3/8IWNMhk/5uO+++yTJfhnCyZMn7aexr5dR2Y06duyoq1evatasWXr88ceVmpqq6tWra9SoUWrYsGG2+338+HG5urqqWLFi2Z43zapVq+Tv769Tp07p3Xff1aJFi9S7d2/NmDFD0v/uPWjdunWmyzh16pQsFouMMdnaNjdu75MnT+rq1at666239NZbb2U4T1qgGjhwoLy9vfXBBx9oxowZcnV1Vd26dTVu3Dj7fRMLFizQqFGj9N5772nIkCHy8fHRo48+qjfeeCPTbXby5Enly5cv3WUcFotFxYoVS3c5SqFChdItw2q13vRLaNqXrgMHDigkJCTLutnZP48ePaovvvgi08tMbjeQpjl+/LgkZftGVmf3J29vb/v7G7dx2iU+znzRf/PNNxUUFKQFCxZo3Lhx8vDwUOPGjTV+/Hjdf//92ep7dsYhTXafHPT888/rqaeekouLi/Lnz2+/Lv5Gziz3VscojTP79u18Hl6vcuXKGd6QfPTo0Uw/VySpTJkykq7dg9SoUSP9/vvvGjJkiCpVqiRvb2+lpqaqZs2atxUKs3LjOKTt39WrV8+wvovLtd+aLRaLVq9erZEjR+qNN97QSy+9pIIFC6pDhw4aPXq0fH19c6W/yFmEA+AeVqBAAbm4uOjw4cPppv3++++SZP8fV6FChTK8ht7Zvw3QpUsXdenSRRcuXNC3336rYcOGqXnz5tq7d6/9Vy5nBQQEKCUlRUeOHLnlR0Ve/z/lhg0bqnHjxnr33XcVExOj6tWr26e99dZbmT6tpmjRorpy5YosFku2ts2NX3oKFChg/xU2s7MhaY83zJcvn/r27au+ffvq9OnTWrVqlV599VU1btxYhw4dkpeXlwoXLqwpU6ZoypQpOnjwoJYuXaoBAwbo2LFjWr58eYbLL1SokK5evarjx487BARjjI4cOZLp//SzK207L1myRAMGDMiybnb2z8KFCyssLEyjR4/OcFlpX2JvV9q2+fXXX7M1n7P7U07x9vbWiBEjNGLECB09etR+FqFFixbavXt3tpaVnXFIk91f7IOCguzhNivOLPdWxyg7bvfz8GYKFy4si8WiuLg4h3t90qSV/fTTT9qxY4diY2PVqVMn+/S0ezacZbVaM7xpPLN7VG4ch7Tx//TTT2/6eV6qVCnNnj1b0rUzcQsXLtTw4cN1+fJl+48zuLNxWRFwD/P29laNGjW0ePFih1+YUlNT9cEHHygoKMh+g250dLTWrFnj8AtsamqqPvnkk2y3+cgjj2jQoEG6fPmydu3aJSl7v4qmXSryzjvvZKvtzFgsFk2bNk2urq4aPHiwpGuPU8yfP78SEhIUERGR4cvd3V3e3t6KiIjQkiVLdPnyZfsyz58/ry+//NKp9r28vFS/fn1t27ZNYWFhGbaV0a+Z+fPnV+vWrfXcc8/p1KlTGd6MXbJkSfXq1UsNGzbM8o+Lpd0Me+MNlYsWLdKFCxdy7LGWLVu2VKVKlTR27NhMbw5dsWKF/vzzz2ztn82bN9dPP/2ksmXLZrj9cioclC9fXmXLltX777+frSfwOLs/ZZczZ2uKFi2qzp07q127dtqzZ4/+/PPPbLWRnXG4E9SqVUv+/v6aMWOGjDG50kZOfR5mpnnz5jLG6LfffstwX6lUqZKk/31JvzFAzJw5M90ys/qMLV26tHbu3OlQtmbNGp0/f96p/jZu3Fj58uVTUlJSpvt3RsqXL6/BgwerUqVKuf7HD5FzOHMA3APWrFmT4RfHpk2bauzYsWrYsKHq16+vfv36yd3dXdOnT9dPP/2k+fPn2//nM2jQIH3xxRd6+OGHNWjQIHl6emrGjBn266TTThtnpHv37vL09FTt2rVVvHhxHTlyRGPHjpW/v7/9F+m0x1q+++678vX1lYeHh4KDgzP8UlynTh117NhRo0aN0tGjR9W8eXNZrVZt27ZNXl5e6t27d7a30f3336///Oc/mj59ur777jv961//0ltvvaVOnTrp1KlTat26tYoUKaLjx49rx44dOn78uD2cjBw5Us2aNVPjxo31/PPPKyUlRePHj5ePj49OnTrlVPtTp07Vv/71L9WpU0fPPvusSpcurXPnzunnn3/WF198Yb8noEWLFnrwwQcVERGhgIAA/fLLL5oyZYpKlSql+++/X2fOnFH9+vXVvn17hYSEyNfXV5s2bbI/USkzaWdP+vfvr7Nnz6p27dr2pxWFh4erY8eO2d6mGXF1ddVnn32mRo0aKSoqSs8++6zq168vb29v/fLLL/r000/1xRdf6I8//pAkp/fPkSNHauXKlapVq5b69OmjChUq6OLFi0pOTtayZcs0Y8aMHHum/bRp09SiRQvVrFlTL774okqWLKmDBw9qxYoV+vDDDzOcx8fHx+n9KTsqVaqktWvX6osvvlDx4sXl6+urChUqqEaNGmrevLnCwsJUoEABJSYmat68eYqKinJ4TKyznB2HO4GPj48mTpyobt26qUGDBurevbuKFi2qn3/+WTt27MiRv0B8O5+Hzqhdu7b+85//qEuXLtq8ebPq1q0rb29vHT58WN99950qVaqkZ599ViEhISpbtqwGDBggY4wKFiyoL774QitXrky3zLRAMXXqVHXq1Elubm6qUKGCfH191bFjRw0ZMkRDhw5VdHS0EhIS9Pbbbzv9hwhLly6tkSNHatCgQdq/f7+aNGmiAgUK6OjRo9q4caP9TNbOnTvVq1cvPfHEE7r//vvl7u6uNWvWaOfOnTc9k4g7SJ7dCg3gtqU9WSKzV9pTK+Li4sxDDz1kvL29jaenp6lZs6b54osv0i0vLi7O1KhRw1itVlOsWDHz8ssvm3HjxhlJ5vTp0/Z6Nz6taO7cuaZ+/fqmaNGixt3d3dx3332mTZs2ZufOnQ7LnzJligkODjaurq5GkpkzZ44xJv2TdYy59mSQyZMnmwcffNC4u7sbf39/ExUVlWG/r5f2lJDrnzKS5ujRo8bHx8fUr1/fXrZu3TrTrFkzU7BgQePm5mYCAwNNs2bNzCeffOIw72effWYqVapk3N3dTcmSJc3rr79u+vTpYwoUKOBQTxk8ESfNgQMHTNeuXU1gYKBxc3MzAQEBplatWmbUqFH2OhMnTjS1atUyhQsXtrcVExNjkpOTjTHGXLx40fTo0cOEhYUZPz8/4+npaSpUqGCGDRtmLly4YF9ORtv0r7/+Mv379zelSpUybm5upnjx4ubZZ581f/zxh0O9zJ72c+O4Z+X06dPmtddeM1WrVjU+Pj7Gzc3NlCxZ0jz11FPm+++/d6jr7P55/Phx06dPHxMcHGzc3NxMwYIFTbVq1cygQYPM+fPnb9r/jMYmo6cVGXPtaTKPPPKI8ff3N1ar1ZQtW9a8+OKL9uk3PkEnjTP7U2b7aEbL3L59u6ldu7bx8vIykuzbf8CAASYiIsIUKFDAWK1WU6ZMGfPiiy+aEydOpFvv62X2tCJjnBsHZ56Q5mx7zi43s229bNkyEx0dbby9vY2Xl5cJDQ0148aNs0/P7GlFzu7bzn4eZiSrz6Hrvf/++6ZGjRr2bV62bFnz9NNPm82bN9vrJCQkmIYNGxpfX19ToEAB88QTT5iDBw9m+ASigQMHmvvuu8+4uLg47NeXLl0yr7zyiilRooTx9PQ00dHRZvv27Zk+rSiz8V2yZImpX7++8fPzM1ar1ZQqVcq0bt3arFq1yhhz7TO2c+fOJiQkxHh7exsfHx8TFhZmJk+ebK5evZrltsCdw2JMLp2TA3BPaNSokZKTk7V379687sod5cqVK6pSpYoCAwNv+vx7APcGPg/xT8BlRQDs+vbtq/DwcJUoUUKnTp3Shx9+qJUrV9pvLvsni4mJUcOGDe2XTc2YMUOJiYkOf7kYwL2Dz0P8UxEOANilpKRo6NChOnLkiCwWi0JDQzVv3jw99dRTed21PHfu3Dn169dPx48fl5ubm6pWraply5apQYMGed01ALmAz0P8U3FZEQAAAABJPMoUAAAAgA3hAAAAAIAkwgEAAAAAG25Ixi1LTU3V77//Ll9f3zvqD+QAAADgGmOMzp07p/vuu8+pP+BHOMAt+/3331WiRIm87gYAAABu4tChQ079JXnCAW6Zr6+vpGs7m5+fXx73BgAAADc6e/asSpQoYf/edjOEA9yytEuJ/Pz8CAcAAAB3MGcvAeeGZAAAAACSCAcAAAAAbAgHAAAAACQRDgAAAADYEA4AAAAASCIcAAAAALAhHAAAAACQRDgAAAAAYEM4AAAAACCJcAAAAADAhnAAAAAAQBLhAAAAAIAN4QAAAACAJMIBAAAAAJt8ed0B3P0m7TgpD5/Led0N2AwIL5zXXQAAAHcpzhwAAAAAkEQ4AAAAAGBDOAAAAAAgiXAAAAAAwIZwAAAAAEAS4QAAAACADeEAAAAAgCTCAQAAAAAbwgEAAAAASYQDAAAAADaEAwAAAACSCAcAAAAAbAgHAAAAACQRDgAAAADYEA4AAAAASCIcAAAAALAhHAAAAACQRDgAAAAAYEM4AAAAACCJcAAAAADAhnAAAAAAQBLhAAAAAIAN4QAAAACAJMIBAAAAABvCAQAAAABJhAMAAAAANoQDAAAAAJIIBwAAAABsCAcAAAAAJBEOAAAAANgQDgAAAABIusPDQefOndWqVau/fRmlS5fWlClTbqtdZ+TE+gEAAAA5JVvhoF69enrhhRey3citzpcTpk6dqtjY2BxdZnJysiwWi7Zv356jywUAAADyUr687kBu8/f3z+su/K2MMUpJSVG+fPf80AIAACCHOX3moHPnzlq3bp2mTp0qi8Uii8Wi5ORkSdK6desUGRkpq9Wq4sWLa8CAAbp69WqW86WkpCgmJkbBwcHy9PRUhQoVNHXq1Gx1PjY2Vvnz59eKFStUsWJF+fj4qEmTJjp8+LBDv6+/dOfcuXPq0KGDvL29Vbx4cU2ePDnDMxt//vmnunbtKl9fX5UsWVLvvvuufVpwcLAkKTw8XBaLRfXq1cu0j7t27VKzZs3k5+cnX19f1alTR0lJSQ51JkyYoOLFi6tQoUJ67rnndOXKFfu0Dz74QBEREfL19VWxYsXUvn17HTt2zD597dq1slgsWrFihSIiImS1WhUXF+fUel6+fFmvvPKKAgMD5e3trRo1amjt2rVObHkAAADci5wOB1OnTlVUVJS6d++uw4cP6/DhwypRooR+++03NW3aVNWrV9eOHTv0zjvvaPbs2Ro1alSW86WmpiooKEgLFy5UQkKChg4dqldffVULFy7M1gr8+eefmjBhgubNm6dvv/1WBw8eVL9+/TKt37dvX33//fdaunSpVq5cqbi4OG3dujVdvYkTJyoiIkLbtm1Tz5499eyzz2r37t2SpI0bN0qSVq1apcOHD2vx4sUZtvXbb7+pbt268vDw0Jo1a7RlyxZ17drVHpwk6ZtvvlFSUpK++eYbzZ07V7GxsQ6XQV2+fFmvvfaaduzYoSVLlujAgQPq3LlzurZeeeUVjR07VomJiQoLC3NqPbt06aLvv/9eH3/8sXbu3KknnnhCTZo00b59+zJcn0uXLuns2bMOLwAAANw7nL72xN/fX+7u7vLy8lKxYsXs5dOnT1eJEiX09ttvy2KxKCQkRL///rv69++voUOHZjqfq6urRowYYX8fHBys+Ph4LVy4UG3atHF6Ba5cuaIZM2aobNmykqRevXpp5MiRGdY9d+6c5s6dq48++kgPP/ywJGnOnDm677770tVt2rSpevbsKUnq37+/Jk+erLVr1yokJEQBAQGSpEKFCjms042mTZsmf39/ffzxx3Jzc5MklS9f3qFOgQIF9Pbbb8vV1VUhISFq1qyZVq9ere7du0uSunbtaq9bpkwZvfnmm4qMjNT58+fl4+NjnzZy5Eg1bNjQ6fVMSkrS/Pnz9euvv9rL+/Xrp+XLl2vOnDkaM2ZMuvUZO3asw5gBAADg3nLbTytKTExUVFSULBaLvax27do6f/68fv311yznnTFjhiIiIhQQECAfHx/NmjVLBw8ezFb7Xl5e9mAgScWLF3e47OZ6+/fv15UrVxQZGWkv8/f3V4UKFdLVDQsLs//bYrGoWLFimS43M9u3b1edOnXswSAjDzzwgFxdXTPt/7Zt29SyZUuVKlVKvr6+9kuYbtxOERER9n87s55bt26VMUbly5eXj4+P/bVu3bp0lz2lGThwoM6cOWN/HTp0yLkNAQAAgLvCbd+1aoxxCAZpZZLSlV9v4cKFevHFFzVx4kRFRUXJ19dX48eP14YNG7LV/o1fvC0Wi739jPqaUb8yqp/RclNTU7PVN09Pz5vWyaqdCxcuqFGjRmrUqJE++OADBQQE6ODBg2rcuLEuX77sMJ+3t7f9386sZ2pqqlxdXbVlyxaHcCLJ4YzE9axWq6xW603XCQAAAHenbJ05cHd3V0pKikNZaGio4uPjHb54xsfHy9fXV4GBgZnOFxcXp1q1aqlnz54KDw9XuXLlMv3FOqeULVtWbm5u9nsGJOns2bOZXmOfGXd3d0lKt043CgsLU1xcnMMNxtmxe/dunThxQq+//rrq1KmjkJAQp85eOLOe4eHhSklJ0bFjx1SuXDmHV1aXSgEAAODela1wULp0aW3YsEHJyck6ceKEUlNT1bNnTx06dEi9e/fW7t279fnnn2vYsGHq27evXFxcMp2vXLly2rx5s1asWKG9e/dqyJAh2rRpU66sZBpfX1916tRJL7/8sr755hvt2rVLXbt2lYuLS5ZnOW5UpEgReXp6avny5Tp69KjOnDmTYb1evXrp7NmzevLJJ7V582bt27dP8+bN0549e5xqp2TJknJ3d9dbb72l/fv3a+nSpXrttddyZD3Lly+vDh066Omnn9bixYt14MABbdq0SePGjdOyZcuc3hYAAAC4d2QrHPTr10+urq4KDQ21X+ISGBioZcuWaePGjapcubJ69OihmJgYDR48OMv5evTooccee0xt27ZVjRo1dPLkSfsNwLlp0qRJioqKUvPmzdWgQQPVrl1bFStWlIeHh9PLyJcvn958803NnDlT9913n1q2bJlhvUKFCmnNmjU6f/68oqOjVa1aNc2aNSvLexCuFxAQoNjYWH3yyScKDQ3V66+/rgkTJuTYes6ZM0dPP/20XnrpJVWoUEH//ve/tWHDBpUoUcKpNgAAAHBvsZjMLtD/h7hw4YICAwM1ceJExcTE5HV3ck1urOfZs2fl7++vYd/ul4ePb44sE7dvQHjhvO4CAAC4Q6R9Xztz5oz8/PxuWv8f92d0t23bpt27dysyMlJnzpyxP/Y0s1//71b/lPUEAABAzvnHhQPp2l8k3rNnj9zd3VWtWjXFxcWpcOF779fWf8p6AgAAIGf848JBeHi4tmzZktfdyHX/lPUEAABAzrntP4IGAAAA4N5AOAAAAAAgiXAAAAAAwIZwAAAAAEAS4QAAAACADeEAAAAAgCTCAQAAAAAbwgEAAAAASYQDAAAAADaEAwAAAACSCAcAAAAAbAgHAAAAACQRDgAAAADYEA4AAAAASCIcAAAAALAhHAAAAACQRDgAAAAAYEM4AAAAACCJcAAAAADAhnAAAAAAQBLhAAAAAIAN4QAAAACAJMIBAAAAABvCAQAAAABJhAMAAAAANoQDAAAAAJIIBwAAAABs8uV1B3D361u5kPz8/PK6GwAAALhNnDkAAAAAIIlwAAAAAMCGcAAAAABAEuEAAAAAgA3hAAAAAIAkwgEAAAAAG8IBAAAAAEmEAwAAAAA2hAMAAAAAkggHAAAAAGwIBwAAAAAkEQ4AAAAA2BAOAAAAAEgiHAAAAACwIRwAAAAAkEQ4AAAAAGBDOAAAAAAgScqX1x3A3W/SjpPy8Lmc193AHWJAeOG87gIAALhFnDkAAAAAIIlwAAAAAMCGcAAAAABAEuEAAAAAgA3hAAAAAIAkwgEAAAAAG8IBAAAAAEmEAwAAAAA2hAMAAAAAkggHAAAAAGwIBwAAAAAkEQ4AAAAA2BAOAAAAAEgiHAAAAACwIRwAAAAAkEQ4AAAAAGBDOAAAAAAgiXAAAAAAwIZwAAAAAEAS4QAAAACADeEAAAAAgCTCAQAAAAAbwgEAAAAASYQDAAAAADaEAwAAAACSCAcAAAAAbAgHAAAAACQRDgAAAADYEA4AAAAASCIcAAAAALAhHAAAAACQdI+Eg86dO6tVq1Z53Y1sSU5OlsVi0fbt2/O6KwAAAICkXAoH9erV0wsvvPC3zQcAAADg9t0TZw7wP5cvX87rLgAAAOAulePhoHPnzlq3bp2mTp0qi8Uii8Wi5ORkSdK6desUGRkpq9Wq4sWLa8CAAbp69WqW86WkpCgmJkbBwcHy9PRUhQoVNHXq1Gz3Kz4+XnXr1pWnp6dKlCihPn366MKFC5KkgQMHqmbNmunmCQsL07Bhw+zv58yZo4oVK8rDw0MhISGaPn16lm2mpqZq3LhxKleunKxWq0qWLKnRo0c71Nm/f7/q168vLy8vVa5cWevXr7dPO3nypNq1a6egoCB5eXmpUqVKmj9/vsP89erVU69evdS3b18VLlxYDRs2lCQtXbpU999/vzw9PVW/fn3NnTtXFotFp0+fdmqbAAAA4J8nx8PB1KlTFRUVpe7du+vw4cM6fPiwSpQood9++01NmzZV9erVtWPHDr3zzjuaPXu2Ro0aleV8qampCgoK0sKFC5WQkKChQ4fq1Vdf1cKFC53u048//qjGjRvrscce086dO7VgwQJ999136tWrlySpQ4cO2rBhg5KSkuzz7Nq1Sz/++KM6dOggSZo1a5YGDRqk0aNHKzExUWPGjNGQIUM0d+7cTNsdOHCgxo0bpyFDhighIUEfffSRihYt6lBn0KBB6tevn7Zv367y5curXbt29sB08eJFVatWTV9++aV++ukn/ec//1HHjh21YcMGh2XMnTtX+fLl0/fff6+ZM2cqOTlZrVu3VqtWrbR9+3Y988wzGjRoULa2SUYuXbqks2fPOrwAAABw77AYY0xOL7RevXqqUqWKpkyZYi8bNGiQFi1apMTERFksFknS9OnT1b9/f505c0YuLi4ZzpeR5557TkePHtWnn34q6dpZh9OnT2vJkiUZ1n/66afl6empmTNn2su+++47RUdH68KFC/Lw8FDlypXVunVrDRkyRJL06quvatWqVdq4caMkqWTJkho3bpzatWtnX8aoUaO0bNkyxcfHp2vz3LlzCggI0Ntvv61u3bqlm56cnKzg4GC99957iomJkSQlJCTogQceUGJiokJCQjJcl2bNmqlixYqaMGGCpGvb+syZM9q2bZu9zoABA/R///d/+vHHH+1lgwcP1ujRo/XHH38of/78Tm2TGw0fPlwjRoxIVz7s2/3y8PHNsL/45xkQXjivuwAAAGzOnj0rf39/nTlzRn5+fjet/7fdc5CYmKioqCh7MJCk2rVr6/z58/r111+znHfGjBmKiIhQQECAfHx8NGvWLB08eNDptrds2aLY2Fj5+PjYX40bN1ZqaqoOHDgg6drZgw8//FCSZIzR/Pnz7WcNjh8/rkOHDikmJsZhGaNGjXI423Dj+l66dEkPP/xwln0LCwuz/7t48eKSpGPHjkmSUlJSNHr0aIWFhalQoULy8fHR119/nW7dIyIiHN7v2bNH1atXdyiLjIzM9ja50cCBA3XmzBn769ChQ1muGwAAAO4u+f6uhowxDsEgrUxSuvLrLVy4UC+++KImTpyoqKgo+fr6avz48ekurclKamqqnnnmGfXp0yfdtJIlS0qS2rdvrwEDBmjr1q3666+/dOjQIT355JP2+aVrlxbVqFHDYX5XV9cM2/T09HSqb25ubvZ/p22HtPYmTpyoyZMna8qUKapUqZK8vb31wgsvpLvp2Nvb2+F9Vts6jTPb5EZWq1VWq9Wp9QIAAMDdJ1fCgbu7u1JSUhzKQkNDtWjRIocvrvHx8fL19VVgYGCm88XFxalWrVrq2bOnvSyzX+szU7VqVe3atUvlypXLtE5QUJDq1q2rDz/8UH/99ZcaNGhgvz+gaNGiCgwM1P79++1nE24m7Wbg1atXZ3hZkTPi4uLUsmVLPfXUU5KufaHft2+fKlasmOV8ISEhWrZsmUPZ5s2bHd47s00AAADwz5IrlxWVLl1aGzZsUHJysk6cOKHU1FT17NlThw4dUu/evbV79259/vnnGjZsmPr27SsXF5dM5ytXrpw2b96sFStWaO/evRoyZIg2bdqUrf70799f69ev13PPPaft27dr3759Wrp0qXr37u1Qr0OHDvr444/1ySef2L+Qpxk+fLjGjh2rqVOnau/evfrxxx81Z84cTZo0KcM2PTw81L9/f73yyiv673//q6SkJP3www+aPXu20/0uV66cVq5cqfj4eCUmJuqZZ57RkSNHbjrfM888o927d6t///7au3evFi5cqNjYWEn/Ozvh7DYBAADAP0euhIN+/frJ1dVVoaGhCggI0MGDBxUYGKhly5Zp48aNqly5snr06KGYmBgNHjw4y/l69Oihxx57TG3btlWNGjV08uRJh7MIzggLC9O6deu0b98+1alTR+Hh4RoyZIj9Gv80TzzxhE6ePKk///wz3V9c7tatm9577z3FxsaqUqVKio6OVmxsrIKDgzNtd8iQIXrppZc0dOhQVaxYUW3btrXfT+CMIUOGqGrVqmrcuLHq1aunYsWKOfWXoIODg/Xpp59q8eLFCgsL0zvvvGN/WlHaZUHObhMAAAD8c+TK04pw5xk9erRmzJiRozcRp939ztOKcD2eVgQAwJ0ju08r+ttuSMbfa/r06apevboKFSqk77//XuPHj8/ybxgAAAAAhIN71L59+zRq1CidOnVKJUuW1EsvvaSBAwfmdbcAAABwByMc3KMmT56syZMn53U3AAAAcBf52/4IGgAAAIA7G+EAAAAAgCTCAQAAAAAbwgEAAAAASYQDAAAAADaEAwAAAACSCAcAAAAAbAgHAAAAACQRDgAAAADYEA4AAAAASCIcAAAAALAhHAAAAACQRDgAAAAAYEM4AAAAACCJcAAAAADAhnAAAAAAQBLhAAAAAIAN4QAAAACAJMIBAAAAABvCAQAAAABJhAMAAAAANoQDAAAAAJIIBwAAAABsCAcAAAAAJBEOAAAAANgQDgAAAABIIhwAAAAAsMmX1x3A3a9v5ULy8/PL624AAADgNnHmAAAAAIAkwgEAAAAAG8IBAAAAAEmEAwAAAAA2hAMAAAAAkggHAAAAAGwIBwAAAAAkEQ4AAAAA2BAOAAAAAEgiHAAAAACwIRwAAAAAkEQ4AAAAAGBDOAAAAAAgiXAAAAAAwIZwAAAAAEAS4QAAAACADeEAAAAAgCQpX153AHe/STtOysPncl53A3egAeGF87oLAAAgGzhzAAAAAEAS4QAAAACADeEAAAAAgCTCAQAAAAAbwgEAAAAASYQDAAAAADaEAwAAAACSCAcAAAAAbAgHAAAAACQRDgAAAADYEA4AAAAASCIcAAAAALAhHAAAAACQRDgAAAAAYEM4AAAAACCJcAAAAADAhnAAAAAAQBLhAAAAAIAN4QAAAACAJMIBAAAAABvCAQAAAABJhAMAAAAANoQDAAAAAJIIBwAAAABsCAcAAAAAJBEOAAAAANgQDgAAAABIIhwAAAAAsCEcAAAAAJBEOAAAAABgQzgAAAAAIOkeCQedO3dWq1atsjVPbGys8ufPnyv9cdat9BsAAADILbkSDurVq6cXXnjhb5sPAAAAwO27J84c4H+MMbp69WpedwMAAAB3oRwPB507d9a6des0depUWSwWWSwWJScnS5LWrVunyMhIWa1WFS9eXAMGDLB/kc1svpSUFMXExCg4OFienp6qUKGCpk6dmu1+xcbGqmTJkvLy8tKjjz6qkydPOkxPSkpSy5YtVbRoUfn4+Kh69epatWqVffrIkSNVqVKldMutVq2ahg4dmmm7u3btUrNmzeTn5ydfX1/VqVNHSUlJDnUmTJig4sWLq1ChQnruued05coV+7QPPvhAERER8vX1VbFixdS+fXsdO3bMPn3t2rWyWCxasWKFIiIiZLVaFRcXp3PnzqlDhw7y9vZW8eLFNXny5HRnZi5fvqxXXnlFgYGB8vb2Vo0aNbR27VpnNykAAADuMTkeDqZOnaqoqCh1795dhw8f1uHDh1WiRAn99ttvatq0qapXr64dO3bonXfe0ezZszVq1Kgs50tNTVVQUJAWLlyohIQEDR06VK+++qoWLlzodJ82bNigrl27qmfPntq+fbvq169vbzfN+fPn1bRpU61atUrbtm1T48aN1aJFCx08eFCS1LVrVyUkJGjTpk32eXbu3Klt27apc+fOGbb722+/qW7duvLw8NCaNWu0ZcsWde3a1eGX/W+++UZJSUn65ptvNHfuXMXGxio2NtY+/fLly3rttde0Y8cOLVmyRAcOHMiwvVdeeUVjx45VYmKiwsLC1LdvX33//fdaunSpVq5cqbi4OG3dutVhni5duuj777/Xxx9/rJ07d+qJJ55QkyZNtG/fvgzX59KlSzp79qzDCwAAAPcOizHG5PRC69WrpypVqmjKlCn2skGDBmnRokVKTEyUxWKRJE2fPl39+/fXmTNn5OLikuF8GXnuued09OhRffrpp5KunXU4ffq0lixZkmH99u3b648//tBXX31lL3vyySe1fPlynT59OtN2HnjgAT377LPq1auXJKlp06YqXbq0pk+fLkl68cUXtX37dn3zzTcZzv/qq6/q448/1p49e+Tm5pZueufOnbV27VolJSXJ1dVVktSmTRu5uLjo448/znCZmzZtUmRkpM6dOycfHx+tXbtW9evX15IlS9SyZUtJ0rlz51SoUCF99NFHat26tSTpzJkzuu+++9S9e3dNmTJFSUlJuv/++/Xrr7/qvvvusy+/QYMGioyM1JgxY9K1PXz4cI0YMSJd+bBv98vDxzfT7Yh/rgHhhfO6CwAA/KOdPXtW/v7+OnPmjPz8/G5a/2+75yAxMVFRUVH2YCBJtWvX1vnz5/Xrr79mOe+MGTMUERGhgIAA+fj4aNasWfZf9LPT9vVufH/hwgW98sorCg0NVf78+eXj46Pdu3c7tNO9e3fNnz9fFy9e1JUrV/Thhx+qa9eumba7fft21alTJ8NgkOaBBx6wBwNJKl68uMNlQ9u2bVPLli1VqlQp+fr6ql69epKUbv0jIiLs/96/f7+uXLmiyMhIe5m/v78qVKhgf79161YZY1S+fHn5+PjYX+vWrUt32VOagQMH6syZM/bXoUOHMl0vAAAA3H3y/V0NGWMcgkFamaR05ddbuHChXnzxRU2cOFFRUVHy9fXV+PHjtWHDhmy1fTMvv/yyVqxYoQkTJqhcuXLy9PRU69atdfnyZXudFi1ayGq16rPPPpPVatWlS5f0+OOPZ7pMT0/Pm7Z7Y3CwWCxKTU2VdC2wNGrUSI0aNdIHH3yggIAAHTx4UI0bN3bolyR5e3unW9/MtrckpaamytXVVVu2bHEIJ5Lk4+OTYV+tVqusVutN1wkAAAB3p1wJB+7u7kpJSXEoCw0N1aJFixxCQnx8vHx9fRUYGJjpfHFxcapVq5Z69uxpL8vsl+3MhIaG6ocffnAou/F9XFycOnfurEcffVTStXsQ0m6kTpMvXz516tRJc+bMkdVq1ZNPPikvL69M2w0LC9PcuXN15cqVLM8eZGb37t06ceKEXn/9dZUoUUKStHnz5pvOV7ZsWbm5uWnjxo32+c6ePat9+/YpOjpakhQeHq6UlBQdO3ZMderUyXbfAAAAcO/JlcuKSpcurQ0bNig5OVknTpxQamqqevbsqUOHDql3797avXu3Pv/8cw0bNkx9+/aVi4tLpvOVK1dOmzdv1ooVK7R3714NGTLE4aZgZ/Tp00fLly/XG2+8ob179+rtt9/W8uXLHeqUK1dOixcv1vbt27Vjxw61b9/e/gv+9bp166Y1a9boq6++yvKSIknq1auXzp49qyeffFKbN2/Wvn37NG/ePO3Zs8epfpcsWVLu7u566623tH//fi1dulSvvfbaTefz9fVVp06d9PLLL+ubb77Rrl271LVrV7m4uNiDWfny5dWhQwc9/fTTWrx4sQ4cOKBNmzZp3LhxWrZsmVP9AwAAwL0lV8JBv3795OrqqtDQUPulMIGBgVq2bJk2btyoypUrq0ePHoqJidHgwYOznK9Hjx567LHH1LZtW9WoUUMnT550OIvgjJo1a+q9997TW2+9pSpVqujrr792aFeSJk+erAIFCqhWrVpq0aKFGjdurKpVq6Zb1v33369atWqpQoUKqlGjRpbtFipUSGvWrNH58+cVHR2tatWqadasWU6fRQgICFBsbKw++eQThYaG6vXXX9eECROcmnfSpEmKiopS8+bN1aBBA9WuXVsVK1aUh4eHvc6cOXP09NNP66WXXlKFChX073//Wxs2bLCfbQAAAMA/S648reheZoxRSEiInnnmGfXt2zevu+O0CxcuKDAwUBMnTlRMTEyOLDPt7neeVoTM8LQiAADyVnafVvS33ZB8Lzh27JjmzZun3377TV26dMnr7mRp27Zt2r17tyIjI3XmzBmNHDlSkuyPOwUAAABuRDjIhqJFi6pw4cJ69913VaBAgbzuzk1NmDBBe/bskbu7u6pVq6a4uDgVLswvuQAAAMgY4SAb7qYrsMLDw7Vly5a87gYAAADuIn/bH0EDAAAAcGcjHAAAAACQRDgAAAAAYEM4AAAAACCJcAAAAADAhnAAAAAAQBLhAAAAAIAN4QAAAACAJMIBAAAAABvCAQAAAABJhAMAAAAANoQDAAAAAJIIBwAAAABsCAcAAAAAJBEOAAAAANgQDgAAAABIIhwAAAAAsCEcAAAAAJBEOAAAAABgQzgAAAAAIIlwAAAAAMCGcAAAAABAEuEAAAAAgA3hAAAAAIAkwgEAAAAAG8IBAAAAAEmEAwAAAAA2+fK6A7j79a1cSH5+fnndDQAAANwmzhwAAAAAkEQ4AAAAAGBDOAAAAAAgiXAAAAAAwIZwAAAAAEAS4QAAAACADeEAAAAAgCTCAQAAAAAbwgEAAAAASYQDAAAAADaEAwAAAACSCAcAAAAAbAgHAAAAACQRDgAAAADYEA4AAAAASCIcAAAAALAhHAAAAACQRDgAAAAAYJMvrzuAu9+kHSfl4XM5r7sBAABwxxsQXjivu5AlzhwAAAAAkEQ4AAAAAGBDOAAAAAAgiXAAAAAAwIZwAAAAAEAS4QAAAACADeEAAAAAgCTCAQAAAAAbwgEAAAAASYQDAAAAADaEAwAAAACSCAcAAAAAbAgHAAAAACQRDgAAAADYEA4AAAAASCIcAAAAALAhHAAAAACQRDgAAAAAYEM4AAAAACCJcAAAAADAhnAAAAAAQBLhAAAAAIAN4QAAAACAJMIBAAAAABvCAQAAAABJhAMAAAAANoQDAAAAAJIIBwAAAABsCAcAAAAAJBEOAAAAANjck+Ggc+fOatWqVabTY2NjlT9//ttuZ+3atbJYLDp9+vQtzZ9T/QAAAABywt8SDurVq6cXXnjhb5vvZtq2bau9e/feEX0BAAAA7hT58roDecHT01Oenp553Y1cc+XKFbm5ueV1NwAAAHCXyfUzB507d9a6des0depUWSwWWSwWJScnS5LWrVunyMhIWa1WFS9eXAMGDNDVq1eznC8lJUUxMTEKDg6Wp6enKlSooKlTp2arTzdezjN8+HBVqVJF8+bNU+nSpeXv768nn3xS586du+k63Mzp06f1n//8R0WLFpWHh4cefPBBffnllw51VqxYoYoVK8rHx0dNmjTR4cOH7dM2bdqkhg0bqnDhwvL391d0dLS2bt3qML/FYtGMGTPUsmVLeXt7a9SoUZKkUaNGqUiRIvL19VW3bt00YMAAValSxWHeOXPmqGLFivLw8FBISIimT5/u5FYEAADAvSbXw8HUqVMVFRWl7t276/Dhwzp8+LBKlCih3377TU2bNlX16tW1Y8cOvfPOO5o9e7b9i21m86WmpiooKEgLFy5UQkKChg4dqldffVULFy68rX4mJSVpyZIl+vLLL/Xll19q3bp1ev3117Psy82kpqbqkUceUXx8vD744AMlJCTo9ddfl6urq73On3/+qQkTJmjevHn69ttvdfDgQfXr188+/dy5c+rUqZPi4uL0ww8/6P7771fTpk3twSXNsGHD1LJlS/3444/q2rWrPvzwQ40ePVrjxo3Tli1bVLJkSb3zzjsO88yaNUuDBg3S6NGjlZiYqDFjxmjIkCGaO3duhutz6dIlnT171uEFAACAe0euX1bk7+8vd3d3eXl5qVixYvby6dOnq0SJEnr77bdlsVgUEhKi33//Xf3799fQoUMznc/V1VUjRoywvw8ODlZ8fLwWLlyoNm3a3HI/U1NTFRsbK19fX0lSx44dtXr1ao0ePTrTvtzMqlWrtHHjRiUmJqp8+fKSpDJlyjjUuXLlimbMmKGyZctKknr16qWRI0fapz/00EMO9WfOnKkCBQpo3bp1at68ub28ffv26tq1q/1927ZtFRMToy5dukiShg4dqq+//lrnz5+313nttdc0ceJEPfbYY5KubcuEhATNnDlTnTp1Src+Y8eOddj2AAAAuLfk2dOKEhMTFRUVJYvFYi+rXbu2zp8/r19//TXLeWfMmKGIiAgFBATIx8dHs2bN0sGDB2+rP6VLl7YHA0kqXry4jh07dlvL3L59u4KCguzBICNeXl72YJBRu8eOHVOPHj1Uvnx5+fv7y9/fX+fPn0+3vhEREQ7v9+zZo8jISIey698fP35chw4dUkxMjHx8fOyvUaNGKSkpKcO+Dhw4UGfOnLG/Dh06dPONAAAAgLtGnt2QbIxxCAZpZZLSlV9v4cKFevHFFzVx4kRFRUXJ19dX48eP14YNG26rPzfewGuxWJSamnpby3TmpueM2k3bDtK1+x2OHz+uKVOmqFSpUrJarYqKitLly5cd5vP29k637My2ryT7us2aNUs1atRwqHf9ZU/Xs1qtslqtN10nAAAA3J3+lnDg7u6ulJQUh7LQ0FAtWrTIISTEx8fL19dXgYGBmc4XFxenWrVqqWfPnvayzH7pzkkZ9eVmwsLC9Ouvv2rv3r1Znj3ISlxcnKZPn66mTZtKkg4dOqQTJ07cdL4KFSpo48aN6tixo71s8+bN9n8XLVpUgYGB2r9/vzp06HBLfQMAAMC95W+5rKh06dLasGGDkpOTdeLECaWmpqpnz546dOiQevfurd27d+vzzz/XsGHD1LdvX7m4uGQ6X7ly5bR582atWLFCe/fu1ZAhQ7Rp06Y8WYebiY6OVt26dfX4449r5cqVOnDggL766istX77c6XbLlSunefPmKTExURs2bFCHDh2cOiPRu3dvzZ49W3PnztW+ffs0atQo7dy50+FswvDhwzV27FhNnTpVe/fu1Y8//qg5c+Zo0qRJTvcPAAAA946/JRz069dPrq6uCg0NVUBAgA4ePKjAwEAtW7ZMGzduVOXKldWjRw/FxMRo8ODBWc7Xo0cPPfbYY2rbtq1q1KihkydPOpxF+DvXwRmLFi1S9erV1a5dO4WGhuqVV17J1hmI999/X3/88YfCw8PVsWNH9enTR0WKFLnpfB06dNDAgQPVr18/Va1aVQcOHFDnzp3l4eFhr9OtWze99957io2NVaVKlRQdHa3Y2FgFBwc73T8AAADcOyzm+gvRcU9r2LChihUrpnnz5uXI8s6ePSt/f38N+3a/PHx8bz4DAADAP9yA8MJ/a3tp39fOnDkjPz+/m9b/R/6F5H+CP//8UzNmzFDjxo3l6uqq+fPna9WqVVq5cmVedw0AAAB3KMLBPcpisWjZsmUaNWqULl26pAoVKmjRokVq0KBBXncNAAAAdyjCwT3K09NTq1atyutuAAAA4C6SZ38EDQAAAMCdhXAAAAAAQBLhAAAAAIAN4QAAAACAJMIBAAAAABvCAQAAAABJhAMAAAAANoQDAAAAAJIIBwAAAABsCAcAAAAAJBEOAAAAANgQDgAAAABIIhwAAAAAsCEcAAAAAJBEOAAAAABgQzgAAAAAIIlwAAAAAMCGcAAAAABAEuEAAAAAgA3hAAAAAIAkwgEAAAAAG8IBAAAAAEmEAwAAAAA2hAMAAAAAkggHAAAAAGwIBwAAAAAkEQ4AAAAA2OTL6w7g7te3ciH5+fnldTcAAABwmzhzAAAAAEAS4QAAAACADeEAAAAAgCTCAQAAAAAbwgEAAAAASYQDAAAAADaEAwAAAACSCAcAAAAAbAgHAAAAACQRDgAAAADYEA4AAAAASCIcAAAAALAhHAAAAACQRDgAAAAAYEM4AAAAACCJcAAAAADAJl9edwB3L2OMJOns2bN53BMAAABkJO17Wtr3tpshHOCWnTx5UpJUokSJPO4JAAAAsnLu3Dn5+/vftB7hALesYMGCkqSDBw86tbMh9509e1YlSpTQoUOH5Ofnl9fdgRiTOxFjcudhTO48jMmd51bHxBijc+fO6b777nOqPuEAt8zF5dotK/7+/nxw3GH8/PwYkzsMY3LnYUzuPIzJnYcxufPcyphk50dcbkgGAAAAIIlwAAAAAMCGcIBbZrVaNWzYMFmt1rzuCmwYkzsPY3LnYUzuPIzJnYcxufP8XWNiMc4+1wgAAADAPY0zBwAAAAAkEQ4AAAAA2BAOAAAAAEgiHAAAAACwIRzAbvr06QoODpaHh4eqVaumuLi4LOuvW7dO1apVk4eHh8qUKaMZM2akq7No0SKFhobKarUqNDRUn332WW51/56U02MSGxsri8WS7nXx4sXcXI17SnbG5PDhw2rfvr0qVKggFxcXvfDCCxnW4zi5PTk9Jhwnty87Y7J48WI1bNhQAQEB8vPzU1RUlFasWJGuHsfJ7cnpMeE4uX3ZGZPvvvtOtWvXVqFCheTp6amQkBBNnjw5Xb0cOU4MYIz5+OOPjZubm5k1a5ZJSEgwzz//vPH29ja//PJLhvX3799vvLy8zPPPP28SEhLMrFmzjJubm/n000/tdeLj442rq6sZM2aMSUxMNGPGjDH58uUzP/zww9+1Wne13BiTOXPmGD8/P3P48GGHF5yT3TE5cOCA6dOnj5k7d66pUqWKef7559PV4Ti5PbkxJhwntye7Y/L888+bcePGmY0bN5q9e/eagQMHGjc3N7N161Z7HY6T25MbY8JxcnuyOyZbt241H330kfnpp5/MgQMHzLx584yXl5eZOXOmvU5OHSeEAxhjjImMjDQ9evRwKAsJCTEDBgzIsP4rr7xiQkJCHMqeeeYZU7NmTfv7Nm3amCZNmjjUady4sXnyySdzqNf3ttwYkzlz5hh/f/8c7+s/RXbH5HrR0dEZfhHlOLk9uTEmHCe353bGJE1oaKgZMWKE/T3Hye3JjTHhOLk9OTEmjz76qHnqqafs73PqOOGyIujy5cvasmWLGjVq5FDeqFEjxcfHZzjP+vXr09Vv3LixNm/erCtXrmRZJ7Nl4n9ya0wk6fz58ypVqpSCgoLUvHlzbdu2LedX4B50K2PiDI6TW5dbYyJxnNyqnBiT1NRUnTt3TgULFrSXcZzcutwaE4nj5FblxJhs27ZN8fHxio6Otpfl1HFCOIBOnDihlJQUFS1a1KG8aNGiOnLkSIbzHDlyJMP6V69e1YkTJ7Ksk9ky8T+5NSYhISGKjY3V0qVLNX/+fHl4eKh27drat29f7qzIPeRWxsQZHCe3LrfGhOPk1uXEmEycOFEXLlxQmzZt7GUcJ7cut8aE4+TW3c6YBAUFyWq1KiIiQs8995y6detmn5ZTx0m+bNXGPc1isTi8N8akK7tZ/RvLs7tMOMrpMalZs6Zq1qxpn167dm1VrVpVb731lt58882c6vY9LTf2aY6T25PT24/j5Pbd6pjMnz9fw4cP1+eff64iRYrkyDJxTU6PCcfJ7buVMYmLi9P58+f1ww8/aMCAASpXrpzatWt3W8u8EeEAKly4sFxdXdMly2PHjqVLoGmKFSuWYf18+fKpUKFCWdbJbJn4n9wakxu5uLioevXq/NLjhFsZE2dwnNy63BqTG3GcOO92xmTBggWKiYnRJ598ogYNGjhM4zi5dbk1JjfiOHHe7YxJcHCwJKlSpUo6evSohg8fbg8HOXWccFkR5O7urmrVqmnlypUO5StXrlStWrUynCcqKipd/a+//loRERFyc3PLsk5my8T/5NaY3MgYo+3bt6t48eI50/F72K2MiTM4Tm5dbo3JjThOnHerYzJ//nx17txZH330kZo1a5ZuOsfJrcutMbkRx4nzcuqzyxijS5cu2d/n2HGSrduXcc9Ke6TW7NmzTUJCgnnhhReMt7e3SU5ONsYYM2DAANOxY0d7/bTHZr744osmISHBzJ49O91jM7///nvj6upqXn/9dZOYmGhef/11Hj2XDbkxJsOHDzfLly83SUlJZtu2baZLly4mX758ZsOGDX/7+t2Nsjsmxhizbds2s23bNlOtWjXTvn17s23bNrNr1y77dI6T25MbY8JxcnuyOyYfffSRyZcvn5k2bZrDIzFPnz5tr8NxcntyY0w4Tm5Pdsfk7bffNkuXLjV79+41e/fuNe+//77x8/MzgwYNstfJqeOEcAC7adOmmVKlShl3d3dTtWpVs27dOvu0Tp06mejoaIf6a9euNeHh4cbd3d2ULl3avPPOO+mW+cknn5gKFSoYNzc3ExISYhYtWpTbq3FPyekxeeGFF0zJkiWNu7u7CQgIMI0aNTLx8fF/x6rcM7I7JpLSvUqVKuVQh+Pk9uT0mHCc3L7sjEl0dHSGY9KpUyeHZXKc3J6cHhOOk9uXnTF58803zQMPPGC8vLyMn5+fCQ8PN9OnTzcpKSkOy8yJ48RijO2ORQAAAAD/aNxzAAAAAEAS4QAAAACADeEAAAAAgCTCAQAAAAAbwgEAAAAASYQDAAAAADaEAwAAAACSCAcAAAAAbAgHAPAPcOTIETVs2FDe3t7Knz9/pmUWi0VLlixxapnDhw9XlSpVcqW/zqpbt64++uijPO3DvSo5OVkWi0Xbt2/Pk/a//PJLhYeHKzU1NU/aB/6pCAcAkIeOHDmi3r17q0yZMrJarSpRooRatGih1atX52g7kydP1uHDh7V9+3bt3bs307LDhw/rkUcecWqZ/fr1y/F+xsbG2oPKzXz55Zc6cuSInnzySXtZ6dKlNWXKlBztU27Iznrmlp9//lldunRRUFCQrFargoOD1a5dO23evDlP+5WmefPmslgshD/gb0Y4AIA8kpycrGrVqmnNmjV644039OOPP2r58uWqX7++nnvuuRxtKykpSdWqVdP999+vIkWKZFpWrFgxWa1Wp5bp4+OjQoUK5Wg/s+PNN99Uly5d5OLC/8qya/PmzapWrZr27t2rmTNnKiEhQZ999plCQkL00ksv5Wrbly9fdrpuly5d9NZbb+VibwCkYwAAeeKRRx4xgYGB5vz58+mm/fHHH/Z///LLL+bf//638fb2Nr6+vuaJJ54wR44ccai/dOlSU7VqVWO1Wk1wcLAZPny4uXLlijHGmFKlShlJ9lenTp0yLDPGGEnms88+sy/30KFDpm3btqZAgQLGy8vLVKtWzfzwww/GGGOGDRtmKleu7NCP999/34SEhBir1WoqVKhgpk2bZp924MABI8ksWrTI1KtXz3h6epqwsDATHx9vjDHmm2++ceiTJDNs2LAMt93x48eNxWIxP/30k0N5qVKlzOTJk+3vJZkZM2aYZs2aGU9PTxMSEmLi4+PNvn37THR0tPHy8jI1a9Y0P//8s32etPWaMWOGCQoKMp6enqZ169YOY7Jx40bToEEDU6hQIePn52fq1q1rtmzZkm4Mu3fvbooUKWKsVqt54IEHzBdffJGt9TTGmOnTp5syZcoYNzc3U758efPf//7XYbokM2vWLNOqVSvj6elpypUrZz7//PNMl5eammoeeOABU61aNZOSkpJuetp63my8rt9W15s8ebIpVaqU/X2nTp1My5YtzZgxY0zx4sVNqVKlnFq2McYkJycbSSYpKSnT9QGQswgHAJAHTp48aSwWixkzZkyW9VJTU014eLj517/+ZTZv3mx++OEHU7VqVRMdHW2vs3z5cuPn52diY2NNUlKS+frrr03p0qXN8OHDjTHGHDt2zDRp0sS0adPGHD582Jw+fTrDMmMcw8G5c+dMmTJlTJ06dUxcXJzZt2+fWbBggf0L3I1fDN99911TvHhxs2jRIrN//36zaNEiU7BgQRMbG2uM+d+XzZCQEPPll1+aPXv2mNatW5tSpUqZK1eumEuXLpkpU6YYPz8/c/jwYXP48GFz7ty5DLfLZ599Zry9vdN9uc0oHAQGBpoFCxaYPXv2mFatWpnSpUubhx56yCxfvtwkJCSYmjVrmiZNmtjnGTZsmPH29jYPPfSQ2bZtm1m3bp0pV66cad++vb3O6tWrzbx580xCQoJJSEgwMTExpmjRoubs2bPGGGNSUlJMzZo1zQMPPGC+/vprk5SUZL744guzbNmybK3n4sWLjZubm5k2bZrZs2ePmThxonF1dTVr1qxxWMegoCDz0UcfmX379pk+ffoYHx8fc/LkyQyXuXXrViPJfPTRRxlOT3Oz8UrbVs6EAx8fH9OxY0fz008/mR9//NGpZacpUqSIfR8CkPsIBwCQBzZs2GAkmcWLF2dZ7+uvvzaurq7m4MGD9rJdu3YZSWbjxo3GGGPq1KmTLmTMmzfPFC9e3P6+ZcuW9rMDWZVdHw5mzpxpfH19M/2SeeMXwxIlSqT7wvnaa6+ZqKgoY8z/vmy+99576dYlMTHRGGPMnDlzjL+/f8Yb4zqTJ082ZcqUSVeeUTgYPHiw/f369euNJDN79mx72fz5842Hh4fDerm6uppDhw7Zy7766ivj4uJiDh8+nGF/rl69anx9fc0XX3xhjDFmxYoVxsXFxezZsyfD+s6uZ61atUz37t0dyp544gnTtGnTTNfx/PnzxmKxmK+++irDZS5YsMBIMlu3bs2ybWfGy9lwULRoUXPp0qVsLTtNeHi4PegCyH1cqAkAecAYI+na04GykpiYqBIlSqhEiRL2stDQUOXPn1+JiYmSpC1btmjkyJHy8fGxv7p3767Dhw/rzz//vOU+bt++XeHh4SpYsOBN6x4/flyHDh1STEyMQz9GjRqlpKQkh7phYWH2fxcvXlySdOzYsWz17a+//pKHh4dTda9vr2jRopKkSpUqOZRdvHhRZ8+etZeVLFlSQUFB9vdRUVFKTU3Vnj177P3t0aOHypcvL39/f/n7++v8+fM6ePCgpGvbLigoSOXLl8/Wet0oMTFRtWvXdiirXbu2fewzWkdvb2/5+vpmuk2d3fcyWvatjlelSpXk7u5+S8v29PS8rf0YQPbky+sOAMA/0f333y+LxaLExES1atUq03rGmAy/xF1fnpqaqhEjRuixxx5LV8/ZL9AZ8fT0dLpu2uMmZ82apRo1ajhMc3V1dXjv5uZm//f165AdhQsX1h9//OFU3Yzay24f0uqk/bdz5846fvy4pkyZolKlSslqtSoqKsp+s212tt3N3Dj+Ge0T169P2jyZrU9aYElMTHTqUbRZbSsXFxd72Ehz5cqVdMvw9vbO9rLTnDp1SgEBATftJ4CcwZkDAMgDBQsWVOPGjTVt2jRduHAh3fTTp09LunaW4ODBgzp06JB9WkJCgs6cOaOKFStKkqpWrao9e/aoXLly6V638ySfsLAwbd++XadOnbpp3aJFiyowMFD79+9P14fg4GCn23R3d1dKSspN64WHh+vIkSNOB4TsOnjwoH7//Xf7+/Xr18vFxcX+xTouLk59+vRR06ZN9cADD8hqterEiRP2+mFhYfr111/tj4i9kbPrWbFiRX333XcOZfHx8faxvxVVqlRRaGioJk6cmGGASNv3nBEQEKAjR444BISc/LsIFy9eVFJSksLDw3NsmQCyRjgAgDwyffp0paSkKDIyUosWLdK+ffuUmJioN998U1FRUZKkBg0aKCwsTB06dNDWrVu1ceNGPf3004qOjlZERIQkaejQofrvf/+r4cOHa9euXUpMTNSCBQs0ePDg2+pfu3btVKxYMbVq1Urff/+99u/fr0WLFmn9+vUZ1h8+fLjGjh2rqVOnau/evfrxxx81Z84cTZo0yek2S5curfPnz2v16tU6ceJEppeThIeHKyAgQN9///0trdvNeHh4qFOnTtqxY4c9CLRp00bFihWTJJUrV07z5s1TYmKiNmzYoA4dOjicLYiOjlbdunX1+OOPa+XKlTpw4IC++uorLV++PFvr+fLLLys2NlYzZszQvn37NGnSJC1evFj9+vW75XWzWCyaM2eO9u7dq7p162rZsmXav3+/du7cqdGjR6tly5ZOL6tevXo6fvy43njjDSUlJWnatGn66quvbrlvN/rhhx/sZ2UA/D0IBwCQR4KDg7V161bVr19fL730kh588EE1bNhQq1ev1jvvvCPpf3+xuECBAqpbt64aNGigMmXKaMGCBfblNG7cWF9++aVWrlyp6tWrq2bNmpo0aZJKlSp1W/1zd3fX119/rSJFiqhp06aqVKmSXn/99XSXCaXp1q2b3nvvPcXGxqpSpUqKjo5WbGxsts4c1KpVSz169FDbtm0VEBCgN954I8N6rq6u6tq1qz788MNbWrebKVeunB577DE1bdpUjRo10oMPPqjp06fbp7///vv6448/FB4ero4dO6pPnz72vxWRZtGiRapevbratWun0NBQvfLKK/azBc6uZ6tWrTR16lSNHz9eDzzwgGbOnKk5c+aoXr16t7V+kZGR2rx5s8qWLavu3burYsWK+ve//61du3Zl64/IVaxYUdOnT9e0adNUuXJlbdy48baCy43mz5+vDh06yMvLK8eWCSBrFnPjxYIAANwFjh49qgceeEBbtmy57SB0veHDh2vJkiU5enkMsu/48eMKCQnR5s2bsxUwAdwezhwAAO5KRYsW1ezZs+1PCMK95cCBA5o+fTrBAPib8bQiAMBdKzvXx+PuEhkZqcjIyLzuBvCPw2VFAAAAACRxWREAAAAAG8IBAAAAAEmEAwAAAAA2hAMAAAAAkggHAAAAAGwIBwAAAAAkEQ4AAAAA2BAOAAAAAEiS/h9uXIzo22qCTQAAAABJRU5ErkJggg==",
      "text/plain": [
       "<Figure size 800x500 with 1 Axes>"
      ]
     },
     "metadata": {},
     "output_type": "display_data"
    }
   ],
   "source": [
    "#Fit a model using all charges at once, Using the original data, not aggregated(pricing_data)\n",
    "X = data[['total day charge', 'total eve charge', \n",
    "          'total night charge', 'total intl charge']]\n",
    "y = data['churn']\n",
    "\n",
    "# Train-test split (To preserve the churn ratio)\n",
    "X_train, X_test, y_train, y_test = train_test_split(\n",
    "    X, y, test_size=0.3, random_state=42, stratify=y )\n",
    "# logistic regression baseline\n",
    "model = LogisticRegression(max_iter=1000)\n",
    "model.fit(X, y)\n",
    "\n",
    "coef = pd.DataFrame({\n",
    "    'Feature': X.columns,\n",
    "    'Coefficient': model.coef_[0]\n",
    "}).sort_values(by='Coefficient', ascending=False)\n",
    "\n",
    "print(coef)\n",
    "\n",
    "# Plot coefficients\n",
    "plt.figure(figsize=(8,5))\n",
    "plt.barh(coef['Feature'], coef['Coefficient'], color='skyblue')\n",
    "plt.xlabel(\"Coefficient (Impact on Churn)\")\n",
    "plt.title(\"Logistic Regression Coefficients for Pricing Features\")\n",
    "plt.show()\n"
   ]
  },
  {
   "cell_type": "markdown",
   "id": "f5bec551-c68a-4274-b6af-8b94db87730c",
   "metadata": {},
   "source": [
    "* International charges are the biggest churn driver. Customers who spend more on international calls are much more likely to leave.\n",
    "* Day & evening charges matter, but less strongly and the night charges are almost irrelevant showing that pricing at night isn’t causing churn."
   ]
  },
  {
   "cell_type": "markdown",
   "id": "8a88f1a5-c6db-4223-9fc0-df7bae1d158c",
   "metadata": {},
   "source": [
    "# Random Forest churn model"
   ]
  },
  {
   "cell_type": "code",
<<<<<<< Updated upstream
   "execution_count": 14,
=======
   "execution_count": 15,
>>>>>>> Stashed changes
   "id": "441eec51-f9c9-4948-9ad0-660eabe0121a",
   "metadata": {},
   "outputs": [
    {
     "name": "stdout",
     "output_type": "stream",
     "text": [
<<<<<<< Updated upstream
      "Random Forest Accuracy: 0.8490\n",
=======
      "Random Forest Accuracy: 0.3850\n",
>>>>>>> Stashed changes
      "\n",
      "Classification Report:\n",
      "              precision    recall  f1-score   support\n",
      "\n",
<<<<<<< Updated upstream
      "           0       0.92      0.91      0.91       855\n",
      "           1       0.48      0.50      0.49       145\n",
      "\n",
      "    accuracy                           0.85      1000\n",
      "   macro avg       0.70      0.71      0.70      1000\n",
      "weighted avg       0.85      0.85      0.85      1000\n",
      "\n",
      "\n",
      "Confusion Matrix:\n",
      "[[776  79]\n",
      " [ 72  73]]\n"
=======
      "           0       0.94      0.30      0.45       855\n",
      "           1       0.18      0.90      0.30       145\n",
      "\n",
      "    accuracy                           0.39      1000\n",
      "   macro avg       0.56      0.60      0.38      1000\n",
      "weighted avg       0.83      0.39      0.43      1000\n",
      "\n",
      "\n",
      "Confusion Matrix:\n",
      "[[255 600]\n",
      " [ 15 130]]\n"
>>>>>>> Stashed changes
     ]
    }
   ],
   "source": [
    "# Train Random Forest\n",
<<<<<<< Updated upstream
    "rf_model = RandomForestClassifier(n_estimators=200, max_depth=None, random_state=42, min_samples_leaf = 10,  class_weight=\"balanced\" )\n",
=======
    "rf_model = RandomForestClassifier(n_estimators=200, max_depth=5, random_state=42, min_samples_leaf = 10,  class_weight=\"balanced\" )\n",
>>>>>>> Stashed changes
    "\n",
    "rf_model.fit(X_train, y_train)\n",
    "\n",
    "# check for churn probabilities\n",
    "y_proba = rf_model.predict_proba(X_test)[:, 1]\n",
    "\n",
    "# Apply lower threshold \n",
    "\n",
<<<<<<< Updated upstream
    "threshold = 0.5\n",
=======
    "threshold = 0.3\n",
>>>>>>> Stashed changes
    "y_pred_thresh = (y_proba >= threshold).astype(int)\n",
    "\n",
    "\n",
    "# Test for  Accuracy score\n",
    "accuracy = accuracy_score(y_test, y_pred_thresh)\n",
    "print(f\"Random Forest Accuracy: {accuracy:.4f}\")\n",
    "\n",
    "# Detailed performance\n",
    "print(\"\\nClassification Report:\")\n",
    "print(classification_report(y_test, y_pred_thresh))\n",
    "\n",
    "#  Confusion matrix\n",
    "print(\"\\nConfusion Matrix:\")\n",
    "print(confusion_matrix(y_test, y_pred_thresh))\n",
    "\n"
   ]
  },
  {
   "cell_type": "markdown",
   "id": "8ef25a22-217a-473e-a036-609d801727b2",
   "metadata": {},
   "source": [
    "* The model correctly identifies 50% of churners (recall = 0.50) and the 48% of predicted churners are actually those who left(precision = 0.48).\n",
    "\n",
    "* Accuracy is slightly average (0.849) due to more stable trees. Using min_samples_leaf=10 prevents overfitting and increases model generalizability. Threshold is a cutoff on predicted probabilities to decide the  class labels.A lower threshold shows more churners (higher recall) and a higher threshold shows fewer false positives (higher precision)."
   ]
  },
  {
   "cell_type": "markdown",
   "id": "5ad14439-f591-4e59-aa7b-09addfca2657",
   "metadata": {},
   "source": [
    "## Retention Strategy:\n",
    "\n",
    "* Consider international call bundles or discount plans to keep high-value customers while also offering daytime loyalty discounts for heavy users.\n",
    "\n",
    "## Pricing Optimization:\n",
    "\n",
    "* Evening and night rates are fine and to leave them as they are and also focus on price adjustments where customers feel they are spending(daytime & international usage.)\n",
    "\n",
    "## Modeling Takeaway:\n",
    "\n",
    "* If you build a full churn prediction model, international charge will likely be one of the top predictors."
   ]
  },
  {
   "cell_type": "code",
   "execution_count": null,
   "id": "df7ab311-c9ab-4032-8e3b-a81350020865",
   "metadata": {},
   "outputs": [],
   "source": []
  }
 ],
 "metadata": {
  "kernelspec": {
   "display_name": "Python 3 (ipykernel)",
   "language": "python",
   "name": "python3"
  },
  "language_info": {
   "codemirror_mode": {
    "name": "ipython",
    "version": 3
   },
   "file_extension": ".py",
   "mimetype": "text/x-python",
   "name": "python",
   "nbconvert_exporter": "python",
   "pygments_lexer": "ipython3",
   "version": "3.12.7"
  }
 },
 "nbformat": 4,
 "nbformat_minor": 5
}
